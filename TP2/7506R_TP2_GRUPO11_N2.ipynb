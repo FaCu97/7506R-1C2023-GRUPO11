{
 "cells": [
  {
   "attachments": {},
   "cell_type": "markdown",
   "metadata": {},
   "source": [
    "# TP2: Críticas cinematográficas\n",
    " - 75.06 - Organización de Datos FiUBA - 2023-1c\n",
    " - Grupo11: Datatack\n",
    " - Integrante: Facundo de la plata - 100558\n"
   ]
  },
  {
   "cell_type": "code",
   "execution_count": 13,
   "metadata": {},
   "outputs": [],
   "source": [
    "import pandas as pd\n",
    "import numpy as np\n",
    "import sklearn as sk\n",
    "from sklearn.model_selection import train_test_split, GridSearchCV, RepeatedStratifiedKFold\n",
    "from sklearn.pipeline import Pipeline\n",
    "from sklearn.naive_bayes import MultinomialNB\n",
    "from sklearn.feature_extraction.text import CountVectorizer, TfidfVectorizer\n",
    "from sklearn.pipeline import make_pipeline\n",
    "from sklearn.metrics import confusion_matrix\n"
   ]
  },
  {
   "cell_type": "code",
   "execution_count": 2,
   "metadata": {},
   "outputs": [],
   "source": [
    "ds_test = pd.read_csv(\"./datasets/test.csv\")\n",
    "ds_train = pd.read_csv(\"./datasets/train.csv\")\n",
    "ds_train_original = ds_train.copy()\n",
    "ds_test_original = ds_test.copy()"
   ]
  },
  {
   "attachments": {},
   "cell_type": "markdown",
   "metadata": {},
   "source": [
    "### Funciones útiles:"
   ]
  },
  {
   "cell_type": "code",
   "execution_count": 3,
   "metadata": {},
   "outputs": [],
   "source": [
    "import pickle\n",
    "\n",
    "def guardar_modelo(model, filename):\n",
    "    # save the model to disk\n",
    "    pickle.dump(model, open(filename, 'wb'))\n",
    "\n",
    "def cargar_modelo(filename):\n",
    "    with open(filename, 'rb') as archivo:\n",
    "        return pickle.load(archivo)"
   ]
  },
  {
   "cell_type": "code",
   "execution_count": 4,
   "metadata": {},
   "outputs": [],
   "source": [
    "from sklearn.metrics import classification_report\n",
    "import seaborn as sns\n",
    "import matplotlib.pyplot as plt\n",
    "\n",
    "def metricas(y_pred,y_test):\n",
    "\n",
    "  print(classification_report(y_test,y_pred, digits=3))\n",
    "  \n",
    "  cm = confusion_matrix(y_test,y_pred)\n",
    "  sns.heatmap(cm, cmap='Blues',annot=True,fmt='g')\n",
    "  plt.xlabel('Predicted')\n",
    "  plt.ylabel('True')"
   ]
  },
  {
   "cell_type": "code",
   "execution_count": 5,
   "metadata": {},
   "outputs": [],
   "source": [
    "def guardar_prediccion(y_prediccion, ds_test, name):\n",
    "    sub = pd.DataFrame(ds_test)\n",
    "    submition=pd.DataFrame(y_prediccion)\n",
    "    submition.rename(columns={0: \"sentimiento\"})\n",
    "    sub[\"sentimiento\"] = submition\n",
    "    sub.drop('review_es', axis=1,  inplace=True)\n",
    "    sub['sentimiento'] = sub['sentimiento'].replace({1:'positivo', 0: 'negativo'})\n",
    "    sub.to_csv(name, index=False)"
   ]
  },
  {
   "cell_type": "code",
   "execution_count": 6,
   "metadata": {},
   "outputs": [],
   "source": [
    "def guardar_y_predecir(modelo, nombre):\n",
    "    guardar_modelo(modelo, \"./modelos/\" + nombre + \".sav\")\n",
    "\n",
    "    # Genero una predicción\n",
    "    y_prediccion = modelo.predict(ds_test['review_es'])\n",
    "\n",
    "    # Guardo la predicción\n",
    "    guardar_prediccion(y_prediccion, ds_test, \"./predicciones/\"+ nombre + \".csv\")"
   ]
  },
  {
   "attachments": {},
   "cell_type": "markdown",
   "metadata": {},
   "source": [
    "Cargo el dataset filtrado y el vectorizer"
   ]
  },
  {
   "cell_type": "code",
   "execution_count": 45,
   "metadata": {},
   "outputs": [],
   "source": [
    "ds_train_filtrado = ds_train = pd.read_csv(\"./datasets/ds_train_filtrado.csv\")\n",
    "vectorizer = cargar_modelo(\"./modelos/vectorizer.sav\")"
   ]
  },
  {
   "cell_type": "code",
   "execution_count": 8,
   "metadata": {},
   "outputs": [],
   "source": [
    "#Genero los conjuntos de train y de test\n",
    "\n",
    "x_train, x_test, y_train, y_test = train_test_split(ds_train_filtrado['review_es'],\n",
    "                                                    ds_train_filtrado['sentimiento'], \n",
    "                                                    test_size=0.3, \n",
    "                                                    random_state=25,\n",
    "                                                    shuffle=True\n",
    "                                                    )\n"
   ]
  },
  {
   "attachments": {},
   "cell_type": "markdown",
   "metadata": {},
   "source": [
    "# 1) Bayes Naive"
   ]
  },
  {
   "cell_type": "code",
   "execution_count": 46,
   "metadata": {},
   "outputs": [
    {
     "name": "stdout",
     "output_type": "stream",
     "text": [
      "              precision    recall  f1-score   support\n",
      "\n",
      "           0      0.849     0.863     0.856      7206\n",
      "           1      0.862     0.848     0.855      7249\n",
      "\n",
      "    accuracy                          0.856     14455\n",
      "   macro avg      0.856     0.856     0.856     14455\n",
      "weighted avg      0.856     0.856     0.856     14455\n",
      "\n"
     ]
    },
    {
     "data": {
      "image/png": "[encoded data removed]",
      "text/plain": [
       "<Figure size 640x480 with 2 Axes>"
      ]
     },
     "metadata": {},
     "output_type": "display_data"
    }
   ],
   "source": [
    "model1 = make_pipeline(vectorizer, MultinomialNB())\n",
    "model1.fit(x_train, y_train)\n",
    "predicted1 = model1.predict(x_test)\n",
    "metricas(predicted1,y_test)"
   ]
  },
  {
   "cell_type": "code",
   "execution_count": 47,
   "metadata": {},
   "outputs": [],
   "source": [
    "guardar_y_predecir(model1,\"bayes_naive_vectorizer4\")"
   ]
  },
  {
   "attachments": {},
   "cell_type": "markdown",
   "metadata": {},
   "source": [
    "Hago randomSearch para optimizar los hiperparámetros"
   ]
  },
  {
   "cell_type": "code",
   "execution_count": 11,
   "metadata": {},
   "outputs": [],
   "source": [
    "##KFOLD CV Random Search para buscar el mejor arbol (los mejores atributos, hiperparametros,etc)\n",
    "from sklearn.model_selection import StratifiedKFold,RandomizedSearchCV\n",
    "from sklearn.metrics import make_scorer\n",
    "\n",
    "#Cantidad de combinaciones que quiero probar\n",
    "n=40\n",
    "\n",
    "#Conjunto de parámetros que quiero usar\n",
    "params_grid = {\n",
    "    'multinomialnb__alpha': [0.1, 0.4, 0.5, 1.0],\n",
    "    'multinomialnb__force_alpha': [True, False],\n",
    "    'multinomialnb__class_prior': [None, [0.3, 0.7], [0.5, 0.5]],\n",
    "    'multinomialnb__fit_prior': [True, False]\n",
    "}\n",
    "                \n",
    "#Cantidad de splits para el Cross Validation\n",
    "folds=5\n",
    "\n",
    "#Kfold estratificado\n",
    "kfoldcv = StratifiedKFold(n_splits=folds)\n",
    "\n",
    "#Clasificador\n",
    "pipeline = make_pipeline(\n",
    "    vectorizer,\n",
    "    MultinomialNB()\n",
    ")\n",
    "#Metrica que quiero optimizar F1 Score\n",
    "scorer_fn = make_scorer(sk.metrics.f1_score)\n",
    "\n",
    "#Random Search Cross Validation\n",
    "randomcv = RandomizedSearchCV(estimator=pipeline,\n",
    "                              param_distributions = params_grid,\n",
    "                              scoring=scorer_fn,\n",
    "                              cv=kfoldcv,\n",
    "                              n_iter=n, n_jobs=-1)\n",
    "\n",
    "#Busco los hiperparamtros que optimizan F1 Score\n",
    "model= randomcv.fit(x_train,y_train)\n"
   ]
  },
  {
   "cell_type": "code",
   "execution_count": 12,
   "metadata": {},
   "outputs": [
    {
     "name": "stdout",
     "output_type": "stream",
     "text": [
      "{'multinomialnb__force_alpha': True, 'multinomialnb__fit_prior': False, 'multinomialnb__class_prior': [0.5, 0.5], 'multinomialnb__alpha': 1.0}\n",
      "              precision    recall  f1-score   support\n",
      "\n",
      "           0      0.851     0.861     0.856      7206\n",
      "           1      0.860     0.850     0.855      7249\n",
      "\n",
      "    accuracy                          0.855     14455\n",
      "   macro avg      0.856     0.855     0.855     14455\n",
      "weighted avg      0.856     0.855     0.855     14455\n",
      "\n"
     ]
    },
    {
     "data": {
      "image/png": "[encoded data removed]",
      "text/plain": [
       "<Figure size 640x480 with 2 Axes>"
      ]
     },
     "metadata": {},
     "output_type": "display_data"
    }
   ],
   "source": [
    "#Mejor estimador\n",
    "best_bayes=model.best_estimator_\n",
    "\n",
    "#Mejores parámetros\n",
    "print(model.best_params_)\n",
    "\n",
    "#Predicción con mejor estimador\n",
    "y_pred=best_bayes.predict(x_test)\n",
    "\n",
    "metricas(y_pred,y_test)"
   ]
  },
  {
   "cell_type": "code",
   "execution_count": 13,
   "metadata": {},
   "outputs": [],
   "source": [
    "guardar_y_predecir(best_bayes,\"bayes_naive_best_model_filtrado_final\")"
   ]
  },
  {
   "attachments": {},
   "cell_type": "markdown",
   "metadata": {},
   "source": [
    "Pruebo optimizar más parametros, por partes:"
   ]
  },
  {
   "cell_type": "code",
   "execution_count": 18,
   "metadata": {},
   "outputs": [],
   "source": [
    "##KFOLD CV Random Search para buscar el mejor arbol (los mejores atributos, hiperparametros,etc)\n",
    "from sklearn.model_selection import StratifiedKFold,RandomizedSearchCV\n",
    "from sklearn.metrics import make_scorer\n",
    "\n",
    "#Cantidad de combinaciones que quiero probar\n",
    "n=40\n",
    "\n",
    "#Conjunto de parámetros que quiero usar\n",
    "params_grid = {\n",
    "    'multinomialnb__alpha': np.arange(0.05, 1.05, 0.05), # intervalos de 0.05\n",
    "    'multinomialnb__force_alpha': [True, False],\n",
    "}\n",
    "                \n",
    "#Cantidad de splits para el Cross Validation\n",
    "folds=5\n",
    "\n",
    "#Kfold estratificado\n",
    "kfoldcv = StratifiedKFold(n_splits=folds)\n",
    "\n",
    "#Clasificador\n",
    "pipeline = make_pipeline(\n",
    "    vectorizer,\n",
    "    MultinomialNB()\n",
    ")\n",
    "#Metrica que quiero optimizar F1 Score\n",
    "scorer_fn = make_scorer(sk.metrics.f1_score)\n",
    "\n",
    "#Random Search Cross Validation\n",
    "randomcv = RandomizedSearchCV(estimator=pipeline,\n",
    "                              param_distributions = params_grid,\n",
    "                              scoring=scorer_fn,\n",
    "                              cv=kfoldcv,\n",
    "                              n_iter=n, n_jobs=-1)\n",
    "\n",
    "#Busco los hiperparamtros que optimizan F1 Score\n",
    "model= randomcv.fit(x_train,y_train)\n"
   ]
  },
  {
   "cell_type": "code",
   "execution_count": 20,
   "metadata": {},
   "outputs": [
    {
     "name": "stdout",
     "output_type": "stream",
     "text": [
      "{'multinomialnb__force_alpha': True, 'multinomialnb__alpha': 0.9500000000000001}\n",
      "              precision    recall  f1-score   support\n",
      "\n",
      "           0      0.850     0.862     0.856      7206\n",
      "           1      0.861     0.848     0.855      7249\n",
      "\n",
      "    accuracy                          0.855     14455\n",
      "   macro avg      0.855     0.855     0.855     14455\n",
      "weighted avg      0.855     0.855     0.855     14455\n",
      "\n"
     ]
    },
    {
     "data": {
      "image/png": "[encoded data removed]",
      "text/plain": [
       "<Figure size 640x480 with 2 Axes>"
      ]
     },
     "metadata": {},
     "output_type": "display_data"
    }
   ],
   "source": [
    "#Mejor estimador\n",
    "best_bayes=model.best_estimator_\n",
    "\n",
    "#Mejores parámetros\n",
    "print(model.best_params_)\n",
    "\n",
    "#Predicción con mejor estimador\n",
    "y_pred=best_bayes.predict(x_test)\n",
    "\n",
    "metricas(y_pred,y_test)"
   ]
  },
  {
   "cell_type": "code",
   "execution_count": 21,
   "metadata": {},
   "outputs": [],
   "source": [
    "guardar_y_predecir(best_bayes,\"bayes_naive_alpha\")"
   ]
  },
  {
   "attachments": {},
   "cell_type": "markdown",
   "metadata": {},
   "source": [
    "Pruebo otro par de hiperparametros"
   ]
  },
  {
   "cell_type": "code",
   "execution_count": 22,
   "metadata": {},
   "outputs": [
    {
     "name": "stderr",
     "output_type": "stream",
     "text": [
      "/usr/local/lib/python3.9/dist-packages/sklearn/model_selection/_search.py:305: UserWarning: The total space of parameters 10 is smaller than n_iter=40. Running 10 iterations. For exhaustive searches, use GridSearchCV.\n",
      "  warnings.warn(\n"
     ]
    }
   ],
   "source": [
    "##KFOLD CV Random Search para buscar el mejor arbol (los mejores atributos, hiperparametros,etc)\n",
    "from sklearn.model_selection import StratifiedKFold,RandomizedSearchCV\n",
    "from sklearn.metrics import make_scorer\n",
    "\n",
    "#Cantidad de combinaciones que quiero probar\n",
    "n=40\n",
    "\n",
    "#Conjunto de parámetros que quiero usar\n",
    "params_grid = {\n",
    "    'multinomialnb__alpha': [0.95],\n",
    "    'multinomialnb__force_alpha': [True],\n",
    "    'multinomialnb__class_prior': [None, [0.2, 0.8], [0.3, 0.7], [0.4, 0.6], [0.5, 0.5]],\n",
    "    'multinomialnb__fit_prior': [True, False]\n",
    "}\n",
    "                \n",
    "#Cantidad de splits para el Cross Validation\n",
    "folds=5\n",
    "\n",
    "#Kfold estratificado\n",
    "kfoldcv = StratifiedKFold(n_splits=folds)\n",
    "\n",
    "#Clasificador\n",
    "pipeline = make_pipeline(\n",
    "    vectorizer,\n",
    "    MultinomialNB()\n",
    ")\n",
    "#Metrica que quiero optimizar F1 Score\n",
    "scorer_fn = make_scorer(sk.metrics.f1_score)\n",
    "\n",
    "#Random Search Cross Validation\n",
    "randomcv = RandomizedSearchCV(estimator=pipeline,\n",
    "                              param_distributions = params_grid,\n",
    "                              scoring=scorer_fn,\n",
    "                              cv=kfoldcv,\n",
    "                              n_iter=n, n_jobs=-1)\n",
    "\n",
    "#Busco los hiperparamtros que optimizan F1 Score\n",
    "model= randomcv.fit(x_train,y_train)\n"
   ]
  },
  {
   "cell_type": "code",
   "execution_count": 23,
   "metadata": {},
   "outputs": [
    {
     "name": "stdout",
     "output_type": "stream",
     "text": [
      "{'multinomialnb__force_alpha': True, 'multinomialnb__fit_prior': False, 'multinomialnb__class_prior': None, 'multinomialnb__alpha': 0.95}\n",
      "              precision    recall  f1-score   support\n",
      "\n",
      "           0      0.851     0.861     0.856      7206\n",
      "           1      0.860     0.850     0.855      7249\n",
      "\n",
      "    accuracy                          0.855     14455\n",
      "   macro avg      0.855     0.855     0.855     14455\n",
      "weighted avg      0.855     0.855     0.855     14455\n",
      "\n"
     ]
    },
    {
     "data": {
      "image/png": "[encoded data removed]",
      "text/plain": [
       "<Figure size 640x480 with 2 Axes>"
      ]
     },
     "metadata": {},
     "output_type": "display_data"
    }
   ],
   "source": [
    "#Mejor estimador\n",
    "best_bayes=model.best_estimator_\n",
    "\n",
    "#Mejores parámetros\n",
    "print(model.best_params_)\n",
    "\n",
    "#Predicción con mejor estimador\n",
    "y_pred=best_bayes.predict(x_test)\n",
    "\n",
    "metricas(y_pred,y_test)"
   ]
  },
  {
   "cell_type": "code",
   "execution_count": 24,
   "metadata": {},
   "outputs": [],
   "source": [
    "guardar_y_predecir(best_bayes,\"bayes_naive_hiperparametros\")"
   ]
  },
  {
   "attachments": {},
   "cell_type": "markdown",
   "metadata": {},
   "source": [
    "# 2) Random Forest"
   ]
  },
  {
   "cell_type": "code",
   "execution_count": 45,
   "metadata": {},
   "outputs": [],
   "source": [
    "from sklearn.ensemble import RandomForestClassifier\n",
    "\n",
    "# Build the model\n",
    "modelRF = make_pipeline(vectorizer, RandomForestClassifier(n_jobs=-1))\n",
    "# Indice de frecuencia invertido. Normaliza la cantidad de palabras.\n",
    "# Le da mayor importancia a las palabras que menos aparecen\n",
    "\n",
    "# Train the model using the training data\n",
    "modelRF.fit(x_train, y_train)\n",
    "\n",
    "# Predict the categories of the test data\n",
    "predicted1 = modelRF.predict(x_test)"
   ]
  },
  {
   "cell_type": "code",
   "execution_count": 46,
   "metadata": {},
   "outputs": [
    {
     "name": "stdout",
     "output_type": "stream",
     "text": [
      "              precision    recall  f1-score   support\n",
      "\n",
      "    negativo      0.830     0.855     0.842      7206\n",
      "    positivo      0.851     0.826     0.838      7249\n",
      "\n",
      "    accuracy                          0.840     14455\n",
      "   macro avg      0.840     0.840     0.840     14455\n",
      "weighted avg      0.841     0.840     0.840     14455\n",
      "\n"
     ]
    },
    {
     "data": {
      "image/png": "[encoded data removed]",
      "text/plain": [
       "<Figure size 640x480 with 2 Axes>"
      ]
     },
     "metadata": {},
     "output_type": "display_data"
    }
   ],
   "source": [
    "metricas(predicted1,y_test)"
   ]
  },
  {
   "cell_type": "code",
   "execution_count": 47,
   "metadata": {},
   "outputs": [],
   "source": [
    "guardar_y_predecir(modelRF,\"random_forest-filtrado\")"
   ]
  },
  {
   "attachments": {},
   "cell_type": "markdown",
   "metadata": {},
   "source": [
    "Hago un randomsearch para optimizar los hiperparámetros"
   ]
  },
  {
   "cell_type": "code",
   "execution_count": 49,
   "metadata": {},
   "outputs": [],
   "source": [
    "##KFOLD CV Random Search para buscar el mejor arbol (los mejores atributos, hiperparametros,etc)\n",
    "from sklearn.model_selection import StratifiedKFold,RandomizedSearchCV\n",
    "from sklearn.metrics import make_scorer\n",
    "\n",
    "#Cantidad de combinaciones que quiero probar\n",
    "n=40\n",
    "\n",
    "#Conjunto de parámetros que quiero usar\n",
    "params_grid = { \"randomforestclassifier__criterion\" : [\"gini\", \"entropy\"], \n",
    "                \"randomforestclassifier__min_samples_leaf\" : [1, 5, 10], \n",
    "                \"randomforestclassifier__min_samples_split\" : [2, 4, 10, 16], \n",
    "                \"randomforestclassifier__n_estimators\": [10, 20, 50, 100],\n",
    "}\n",
    "                \n",
    "#Cantidad de splits para el Cross Validation\n",
    "folds=5\n",
    "\n",
    "#Kfold estratificado\n",
    "kfoldcv = StratifiedKFold(n_splits=folds)\n",
    "\n",
    "#Clasificador\n",
    "pipeline = make_pipeline(\n",
    "    vectorizer,\n",
    "    RandomForestClassifier()\n",
    ")\n",
    "#Metrica que quiero optimizar F1 Score\n",
    "scorer_fn = make_scorer(sk.metrics.f1_score)\n",
    "\n",
    "#Random Search Cross Validation\n",
    "randomcv = RandomizedSearchCV(estimator=pipeline,\n",
    "                              param_distributions = params_grid,\n",
    "                              scoring=scorer_fn,\n",
    "                              cv=kfoldcv,\n",
    "                              n_iter=n, n_jobs=-1) \n",
    "\n",
    "#Busco los hiperparamtros que optimizan F1 Score\n",
    "model = randomcv.fit(x_train,y_train)"
   ]
  },
  {
   "cell_type": "code",
   "execution_count": 50,
   "metadata": {},
   "outputs": [
    {
     "name": "stdout",
     "output_type": "stream",
     "text": [
      "{'randomforestclassifier__n_estimators': 100, 'randomforestclassifier__min_samples_split': 16, 'randomforestclassifier__min_samples_leaf': 1, 'randomforestclassifier__criterion': 'entropy'}\n",
      "              precision    recall  f1-score   support\n",
      "\n",
      "    negativo      0.843     0.846     0.845      7206\n",
      "    positivo      0.847     0.843     0.845      7249\n",
      "\n",
      "    accuracy                          0.845     14455\n",
      "   macro avg      0.845     0.845     0.845     14455\n",
      "weighted avg      0.845     0.845     0.845     14455\n",
      "\n"
     ]
    },
    {
     "data": {
      "image/png": "[encoded data removed]",
      "text/plain": [
       "<Figure size 640x480 with 2 Axes>"
      ]
     },
     "metadata": {},
     "output_type": "display_data"
    }
   ],
   "source": [
    "#Mejor estimador\n",
    "best_RF=model.best_estimator_\n",
    "\n",
    "#Mejores parametros\n",
    "print(model.best_params_)\n",
    "\n",
    "#Predicción con mejor estimador\n",
    "y_pred=best_RF.predict(x_test)\n",
    "\n",
    "metricas(y_pred,y_test)"
   ]
  },
  {
   "cell_type": "code",
   "execution_count": 51,
   "metadata": {},
   "outputs": [],
   "source": [
    "guardar_y_predecir(best_RF,\"random_forest_best-filtrado\")"
   ]
  },
  {
   "attachments": {},
   "cell_type": "markdown",
   "metadata": {},
   "source": [
    "Pruebo otro "
   ]
  },
  {
   "attachments": {},
   "cell_type": "markdown",
   "metadata": {},
   "source": [
    "# 3) XGBoost"
   ]
  },
  {
   "cell_type": "code",
   "execution_count": 49,
   "metadata": {},
   "outputs": [
    {
     "name": "stdout",
     "output_type": "stream",
     "text": [
      "              precision    recall  f1-score   support\n",
      "\n",
      "           0      0.856     0.816     0.835      7206\n",
      "           1      0.825     0.863     0.844      7249\n",
      "\n",
      "    accuracy                          0.840     14455\n",
      "   macro avg      0.840     0.840     0.839     14455\n",
      "weighted avg      0.840     0.840     0.839     14455\n",
      "\n"
     ]
    },
    {
     "data": {
      "image/png": "[encoded data removed]",
      "text/plain": [
       "<Figure size 640x480 with 2 Axes>"
      ]
     },
     "metadata": {},
     "output_type": "display_data"
    }
   ],
   "source": [
    "from xgboost import XGBClassifier\n",
    "# Build the model\n",
    "\n",
    "modelXGB = make_pipeline(vectorizer, XGBClassifier(n_jobs=-1))\n",
    "\n",
    "# Train the model using the training data\n",
    "modelXGB.fit(x_train, y_train)\n",
    "\n",
    "# Predict the categories of the test data\n",
    "predictedXGB = modelXGB.predict(x_test)\n",
    "\n",
    "metricas(predictedXGB,y_test)"
   ]
  },
  {
   "cell_type": "code",
   "execution_count": 67,
   "metadata": {},
   "outputs": [],
   "source": [
    "guardar_y_predecir(modelXGB,\"XGBoost-filtrado\")"
   ]
  },
  {
   "attachments": {},
   "cell_type": "markdown",
   "metadata": {},
   "source": [
    "Hago un randomSearch para optimizar los hiperparámetros"
   ]
  },
  {
   "cell_type": "code",
   "execution_count": 35,
   "metadata": {},
   "outputs": [],
   "source": [
    "##KFOLD CV Random Search para buscar el mejor arbol (los mejores atributos, hiperparametros,etc)\n",
    "from sklearn.model_selection import StratifiedKFold, RandomizedSearchCV\n",
    "from sklearn.metrics import make_scorer\n",
    "\n",
    "#Cantidad de combinaciones que quiero probar\n",
    "n=40\n",
    "\n",
    "#Conjunto de parámetros que quiero usar\n",
    "params_grid = {\n",
    "    'xgbclassifier__max_depth': [3, 5, 7],\n",
    "    'xgbclassifier__learning_rate': [0.05, 0.1, 0.15],\n",
    "    'xgbclassifier__subsample': [0.6, 0.8, 1.0],\n",
    "    'xgbclassifier__gamma': [0, 0.1, 0.5],\n",
    "}\n",
    "                \n",
    "#Cantidad de splits para el Cross Validation\n",
    "folds=5\n",
    "\n",
    "#Kfold estratificado\n",
    "kfoldcv = StratifiedKFold(n_splits=folds)\n",
    "\n",
    "#Clasificador\n",
    "pipeline = make_pipeline(\n",
    "    vectorizer,\n",
    "    XGBClassifier()\n",
    ")\n",
    "#Metrica que quiero optimizar F1 Score\n",
    "scorer_fn = make_scorer(sk.metrics.f1_score)\n",
    "\n",
    "#Random Search Cross Validation\n",
    "randomcv = RandomizedSearchCV(estimator=pipeline,\n",
    "                              param_distributions = params_grid,\n",
    "                              scoring=scorer_fn,\n",
    "                              cv=kfoldcv,\n",
    "                              n_iter=n, n_jobs=-1) \n",
    "\n",
    "#Busco los hiperparamtros que optimizan F1 Score\n",
    "model_XGB = randomcv.fit(x_train,y_train)"
   ]
  },
  {
   "cell_type": "code",
   "execution_count": 36,
   "metadata": {},
   "outputs": [
    {
     "name": "stdout",
     "output_type": "stream",
     "text": [
      "{'xgbclassifier__subsample': 0.8, 'xgbclassifier__max_depth': 7, 'xgbclassifier__learning_rate': 0.15, 'xgbclassifier__gamma': 0.5}\n",
      "0.831114970779238\n"
     ]
    }
   ],
   "source": [
    "#Mejores hiperparametros\n",
    "print(model_XGB.best_params_)\n",
    "#Mejor métrica\n",
    "print(model_XGB.best_score_)"
   ]
  },
  {
   "cell_type": "code",
   "execution_count": 37,
   "metadata": {},
   "outputs": [
    {
     "name": "stdout",
     "output_type": "stream",
     "text": [
      "              precision    recall  f1-score   support\n",
      "\n",
      "           0      0.857     0.798     0.826      7206\n",
      "           1      0.812     0.867     0.839      7249\n",
      "\n",
      "    accuracy                          0.833     14455\n",
      "   macro avg      0.834     0.833     0.833     14455\n",
      "weighted avg      0.834     0.833     0.833     14455\n",
      "\n"
     ]
    },
    {
     "data": {
      "image/png": "[encoded data removed]",
      "text/plain": [
       "<Figure size 640x480 with 2 Axes>"
      ]
     },
     "metadata": {},
     "output_type": "display_data"
    }
   ],
   "source": [
    "#Mejor estimador\n",
    "best_XGB=model_XGB.best_estimator_\n",
    "\n",
    "#Predicción con mejor estimador\n",
    "y_pred=best_XGB.predict(x_test)\n",
    "\n",
    "metricas(y_pred,y_test)"
   ]
  },
  {
   "cell_type": "code",
   "execution_count": 95,
   "metadata": {},
   "outputs": [],
   "source": [
    "guardar_y_predecir(best_XGB,\"xgboost_best-filtrado\")"
   ]
  },
  {
   "attachments": {},
   "cell_type": "markdown",
   "metadata": {},
   "source": [
    "Pruebo otro:"
   ]
  },
  {
   "cell_type": "code",
   "execution_count": 51,
   "metadata": {},
   "outputs": [
    {
     "name": "stdout",
     "output_type": "stream",
     "text": [
      "Fitting 5 folds for each of 87 candidates, totalling 435 fits\n"
     ]
    }
   ],
   "source": [
    "##KFOLD CV Random Search para buscar el mejor arbol (los mejores atributos, hiperparametros,etc)\n",
    "from sklearn.model_selection import StratifiedKFold, RandomizedSearchCV\n",
    "from sklearn.metrics import make_scorer\n",
    "\n",
    "#Cantidad de combinaciones que quiero probar\n",
    "n=87\n",
    "\n",
    "#Conjunto de parámetros que quiero usar\n",
    "params_grid = {\n",
    "    'xgbclassifier__max_depth': [3, 5, 7, 9],\n",
    "    'xgbclassifier__learning_rate': [0.01, 0.05, 0.1, 0.15],\n",
    "    'xgbclassifier__n_estimators': [100, 200, 300],\n",
    "    'xgbclassifier__subsample': [0.6, 0.8, 1.0],\n",
    "    'xgbclassifier__gamma': [0, 0.1, 0.5],\n",
    "}\n",
    "                \n",
    "#Cantidad de splits para el Cross Validation\n",
    "folds=5\n",
    "\n",
    "#Kfold estratificado\n",
    "kfoldcv = StratifiedKFold(n_splits=folds)\n",
    "\n",
    "#Clasificador\n",
    "pipeline = make_pipeline(\n",
    "    vectorizer,\n",
    "    XGBClassifier()\n",
    ")\n",
    "#Metrica que quiero optimizar F1 Score\n",
    "scorer_fn = make_scorer(sk.metrics.f1_score)\n",
    "\n",
    "#Random Search Cross Validation\n",
    "randomcv = RandomizedSearchCV(estimator=pipeline,\n",
    "                              param_distributions = params_grid,\n",
    "                              scoring=scorer_fn,\n",
    "                              cv=kfoldcv,\n",
    "                              n_iter=n, verbose=1, n_jobs=-1) \n",
    "\n",
    "#Busco los hiperparamtros que optimizan F1 Score\n",
    "model_XGB = randomcv.fit(x_train,y_train)"
   ]
  },
  {
   "cell_type": "code",
   "execution_count": 52,
   "metadata": {},
   "outputs": [
    {
     "name": "stdout",
     "output_type": "stream",
     "text": [
      "{'xgbclassifier__subsample': 0.6, 'xgbclassifier__n_estimators': 300, 'xgbclassifier__max_depth': 9, 'xgbclassifier__learning_rate': 0.1, 'xgbclassifier__gamma': 0.1}\n",
      "0.852853161245626\n"
     ]
    }
   ],
   "source": [
    "#Mejores hiperparametros\n",
    "print(model_XGB.best_params_)\n",
    "#Mejor métrica\n",
    "print(model_XGB.best_score_)"
   ]
  },
  {
   "cell_type": "code",
   "execution_count": 53,
   "metadata": {},
   "outputs": [
    {
     "name": "stdout",
     "output_type": "stream",
     "text": [
      "              precision    recall  f1-score   support\n",
      "\n",
      "           0      0.866     0.839     0.852      7206\n",
      "           1      0.845     0.871     0.857      7249\n",
      "\n",
      "    accuracy                          0.855     14455\n",
      "   macro avg      0.855     0.855     0.855     14455\n",
      "weighted avg      0.855     0.855     0.855     14455\n",
      "\n"
     ]
    },
    {
     "data": {
      "image/png": "[encoded data removed]",
      "text/plain": [
       "<Figure size 640x480 with 2 Axes>"
      ]
     },
     "metadata": {},
     "output_type": "display_data"
    }
   ],
   "source": [
    "#Mejor estimador\n",
    "best_XGB=model_XGB.best_estimator_\n",
    "\n",
    "#Predicción con mejor estimador\n",
    "y_pred=best_XGB.predict(x_test)\n",
    "\n",
    "metricas(y_pred,y_test)"
   ]
  },
  {
   "cell_type": "code",
   "execution_count": 54,
   "metadata": {},
   "outputs": [],
   "source": [
    "guardar_y_predecir(best_XGB,\"xgboost_best-filtrado-2\")"
   ]
  },
  {
   "attachments": {},
   "cell_type": "markdown",
   "metadata": {},
   "source": [
    "# Ensamble Voting"
   ]
  },
  {
   "cell_type": "code",
   "execution_count": 25,
   "metadata": {},
   "outputs": [],
   "source": [
    "\n",
    "bayes_naive = cargar_modelo(\"./modelos/bayes_naive_hiperparametros.sav\")\n",
    "random_forest = cargar_modelo(\"./modelos/random_forest_best-filtrado.sav\")\n",
    "xgboost = cargar_modelo(\"./modelos/XGBoost-filtrado.sav\")\n",
    "\n"
   ]
  },
  {
   "cell_type": "code",
   "execution_count": 26,
   "metadata": {},
   "outputs": [
    {
     "data": {
      "text/html": [
       "<style>#sk-container-id-1 {color: black;background-color: white;}#sk-container-id-1 pre{padding: 0;}#sk-container-id-1 div.sk-toggleable {background-color: white;}#sk-container-id-1 label.sk-toggleable__label {cursor: pointer;display: block;width: 100%;margin-bottom: 0;padding: 0.3em;box-sizing: border-box;text-align: center;}#sk-container-id-1 label.sk-toggleable__label-arrow:before {content: \"▸\";float: left;margin-right: 0.25em;color: #696969;}#sk-container-id-1 label.sk-toggleable__label-arrow:hover:before {color: black;}#sk-container-id-1 div.sk-estimator:hover label.sk-toggleable__label-arrow:before {color: black;}#sk-container-id-1 div.sk-toggleable__content {max-height: 0;max-width: 0;overflow: hidden;text-align: left;background-color: #f0f8ff;}#sk-container-id-1 div.sk-toggleable__content pre {margin: 0.2em;color: black;border-radius: 0.25em;background-color: #f0f8ff;}#sk-container-id-1 input.sk-toggleable__control:checked~div.sk-toggleable__content {max-height: 200px;max-width: 100%;overflow: auto;}#sk-container-id-1 input.sk-toggleable__control:checked~label.sk-toggleable__label-arrow:before {content: \"▾\";}#sk-container-id-1 div.sk-estimator input.sk-toggleable__control:checked~label.sk-toggleable__label {background-color: #d4ebff;}#sk-container-id-1 div.sk-label input.sk-toggleable__control:checked~label.sk-toggleable__label {background-color: #d4ebff;}#sk-container-id-1 input.sk-hidden--visually {border: 0;clip: rect(1px 1px 1px 1px);clip: rect(1px, 1px, 1px, 1px);height: 1px;margin: -1px;overflow: hidden;padding: 0;position: absolute;width: 1px;}#sk-container-id-1 div.sk-estimator {font-family: monospace;background-color: #f0f8ff;border: 1px dotted black;border-radius: 0.25em;box-sizing: border-box;margin-bottom: 0.5em;}#sk-container-id-1 div.sk-estimator:hover {background-color: #d4ebff;}#sk-container-id-1 div.sk-parallel-item::after {content: \"\";width: 100%;border-bottom: 1px solid gray;flex-grow: 1;}#sk-container-id-1 div.sk-label:hover label.sk-toggleable__label {background-color: #d4ebff;}#sk-container-id-1 div.sk-serial::before {content: \"\";position: absolute;border-left: 1px solid gray;box-sizing: border-box;top: 0;bottom: 0;left: 50%;z-index: 0;}#sk-container-id-1 div.sk-serial {display: flex;flex-direction: column;align-items: center;background-color: white;padding-right: 0.2em;padding-left: 0.2em;position: relative;}#sk-container-id-1 div.sk-item {position: relative;z-index: 1;}#sk-container-id-1 div.sk-parallel {display: flex;align-items: stretch;justify-content: center;background-color: white;position: relative;}#sk-container-id-1 div.sk-item::before, #sk-container-id-1 div.sk-parallel-item::before {content: \"\";position: absolute;border-left: 1px solid gray;box-sizing: border-box;top: 0;bottom: 0;left: 50%;z-index: -1;}#sk-container-id-1 div.sk-parallel-item {display: flex;flex-direction: column;z-index: 1;position: relative;background-color: white;}#sk-container-id-1 div.sk-parallel-item:first-child::after {align-self: flex-end;width: 50%;}#sk-container-id-1 div.sk-parallel-item:last-child::after {align-self: flex-start;width: 50%;}#sk-container-id-1 div.sk-parallel-item:only-child::after {width: 0;}#sk-container-id-1 div.sk-dashed-wrapped {border: 1px dashed gray;margin: 0 0.4em 0.5em 0.4em;box-sizing: border-box;padding-bottom: 0.4em;background-color: white;}#sk-container-id-1 div.sk-label label {font-family: monospace;font-weight: bold;display: inline-block;line-height: 1.2em;}#sk-container-id-1 div.sk-label-container {text-align: center;}#sk-container-id-1 div.sk-container {/* jupyter's `normalize.less` sets `[hidden] { display: none; }` but bootstrap.min.css set `[hidden] { display: none !important; }` so we also need the `!important` here to be able to override the default hidden behavior on the sphinx rendered scikit-learn.org. See: https://github.com/scikit-learn/scikit-learn/issues/21755 */display: inline-block !important;position: relative;}#sk-container-id-1 div.sk-text-repr-fallback {display: none;}</style><div id=\"sk-container-id-1\" class=\"sk-top-container\"><div class=\"sk-text-repr-fallback\"><pre>VotingClassifier(estimators=[(&#x27;bayes_naive&#x27;,\n",
       "                              Pipeline(steps=[(&#x27;tfidfvectorizer&#x27;,\n",
       "                                               TfidfVectorizer(max_features=40000,\n",
       "                                                               stop_words=[&#x27;de&#x27;,\n",
       "                                                                           &#x27;la&#x27;,\n",
       "                                                                           &#x27;que&#x27;,\n",
       "                                                                           &#x27;el&#x27;,\n",
       "                                                                           &#x27;en&#x27;,\n",
       "                                                                           &#x27;y&#x27;,\n",
       "                                                                           &#x27;a&#x27;,\n",
       "                                                                           &#x27;los&#x27;,\n",
       "                                                                           &#x27;del&#x27;,\n",
       "                                                                           &#x27;se&#x27;,\n",
       "                                                                           &#x27;las&#x27;,\n",
       "                                                                           &#x27;por&#x27;,\n",
       "                                                                           &#x27;un&#x27;,\n",
       "                                                                           &#x27;para&#x27;,\n",
       "                                                                           &#x27;con&#x27;,\n",
       "                                                                           &#x27;no&#x27;,\n",
       "                                                                           &#x27;una&#x27;,\n",
       "                                                                           &#x27;su&#x27;,\n",
       "                                                                           &#x27;al&#x27;,\n",
       "                                                                           &#x27;lo&#x27;,\n",
       "                                                                           &#x27;como&#x27;,\n",
       "                                                                           &#x27;más&#x27;,\n",
       "                                                                           &#x27;pero&#x27;,\n",
       "                                                                           &#x27;sus&#x27;,\n",
       "                                                                           &#x27;le&#x27;,\n",
       "                                                                           &#x27;ya&#x27;,\n",
       "                                                                           &#x27;o&#x27;,\n",
       "                                                                           &#x27;este&#x27;,\n",
       "                                                                           &#x27;sí&#x27;,\n",
       "                                                                           &#x27;porque&#x27;, ...],\n",
       "                                                               strip_accents=&#x27;ascii&#x27;)),\n",
       "                                              (&#x27;multinomialnb&#x27;,\n",
       "                                               Multinomia...\n",
       "                                                             gpu_id=None,\n",
       "                                                             grow_policy=None,\n",
       "                                                             importance_type=None,\n",
       "                                                             interaction_constraints=None,\n",
       "                                                             learning_rate=None,\n",
       "                                                             max_bin=None,\n",
       "                                                             max_cat_threshold=None,\n",
       "                                                             max_cat_to_onehot=None,\n",
       "                                                             max_delta_step=None,\n",
       "                                                             max_depth=None,\n",
       "                                                             max_leaves=None,\n",
       "                                                             min_child_weight=None,\n",
       "                                                             missing=nan,\n",
       "                                                             monotone_constraints=None,\n",
       "                                                             n_estimators=100,\n",
       "                                                             n_jobs=-1,\n",
       "                                                             num_parallel_tree=None,\n",
       "                                                             predictor=None,\n",
       "                                                             random_state=None, ...))]))])</pre><b>In a Jupyter environment, please rerun this cell to show the HTML representation or trust the notebook. <br />On GitHub, the HTML representation is unable to render, please try loading this page with nbviewer.org.</b></div><div class=\"sk-container\" hidden><div class=\"sk-item sk-dashed-wrapped\"><div class=\"sk-label-container\"><div class=\"sk-label sk-toggleable\"><input class=\"sk-toggleable__control sk-hidden--visually\" id=\"sk-estimator-id-1\" type=\"checkbox\" ><label for=\"sk-estimator-id-1\" class=\"sk-toggleable__label sk-toggleable__label-arrow\">VotingClassifier</label><div class=\"sk-toggleable__content\"><pre>VotingClassifier(estimators=[(&#x27;bayes_naive&#x27;,\n",
       "                              Pipeline(steps=[(&#x27;tfidfvectorizer&#x27;,\n",
       "                                               TfidfVectorizer(max_features=40000,\n",
       "                                                               stop_words=[&#x27;de&#x27;,\n",
       "                                                                           &#x27;la&#x27;,\n",
       "                                                                           &#x27;que&#x27;,\n",
       "                                                                           &#x27;el&#x27;,\n",
       "                                                                           &#x27;en&#x27;,\n",
       "                                                                           &#x27;y&#x27;,\n",
       "                                                                           &#x27;a&#x27;,\n",
       "                                                                           &#x27;los&#x27;,\n",
       "                                                                           &#x27;del&#x27;,\n",
       "                                                                           &#x27;se&#x27;,\n",
       "                                                                           &#x27;las&#x27;,\n",
       "                                                                           &#x27;por&#x27;,\n",
       "                                                                           &#x27;un&#x27;,\n",
       "                                                                           &#x27;para&#x27;,\n",
       "                                                                           &#x27;con&#x27;,\n",
       "                                                                           &#x27;no&#x27;,\n",
       "                                                                           &#x27;una&#x27;,\n",
       "                                                                           &#x27;su&#x27;,\n",
       "                                                                           &#x27;al&#x27;,\n",
       "                                                                           &#x27;lo&#x27;,\n",
       "                                                                           &#x27;como&#x27;,\n",
       "                                                                           &#x27;más&#x27;,\n",
       "                                                                           &#x27;pero&#x27;,\n",
       "                                                                           &#x27;sus&#x27;,\n",
       "                                                                           &#x27;le&#x27;,\n",
       "                                                                           &#x27;ya&#x27;,\n",
       "                                                                           &#x27;o&#x27;,\n",
       "                                                                           &#x27;este&#x27;,\n",
       "                                                                           &#x27;sí&#x27;,\n",
       "                                                                           &#x27;porque&#x27;, ...],\n",
       "                                                               strip_accents=&#x27;ascii&#x27;)),\n",
       "                                              (&#x27;multinomialnb&#x27;,\n",
       "                                               Multinomia...\n",
       "                                                             gpu_id=None,\n",
       "                                                             grow_policy=None,\n",
       "                                                             importance_type=None,\n",
       "                                                             interaction_constraints=None,\n",
       "                                                             learning_rate=None,\n",
       "                                                             max_bin=None,\n",
       "                                                             max_cat_threshold=None,\n",
       "                                                             max_cat_to_onehot=None,\n",
       "                                                             max_delta_step=None,\n",
       "                                                             max_depth=None,\n",
       "                                                             max_leaves=None,\n",
       "                                                             min_child_weight=None,\n",
       "                                                             missing=nan,\n",
       "                                                             monotone_constraints=None,\n",
       "                                                             n_estimators=100,\n",
       "                                                             n_jobs=-1,\n",
       "                                                             num_parallel_tree=None,\n",
       "                                                             predictor=None,\n",
       "                                                             random_state=None, ...))]))])</pre></div></div></div><div class=\"sk-parallel\"><div class=\"sk-parallel-item\"><div class=\"sk-item\"><div class=\"sk-label-container\"><div class=\"sk-label sk-toggleable\"><label>bayes_naive</label></div></div><div class=\"sk-serial\"><div class=\"sk-item\"><div class=\"sk-serial\"><div class=\"sk-item\"><div class=\"sk-estimator sk-toggleable\"><input class=\"sk-toggleable__control sk-hidden--visually\" id=\"sk-estimator-id-2\" type=\"checkbox\" ><label for=\"sk-estimator-id-2\" class=\"sk-toggleable__label sk-toggleable__label-arrow\">TfidfVectorizer</label><div class=\"sk-toggleable__content\"><pre>TfidfVectorizer(max_features=40000,\n",
       "                stop_words=[&#x27;de&#x27;, &#x27;la&#x27;, &#x27;que&#x27;, &#x27;el&#x27;, &#x27;en&#x27;, &#x27;y&#x27;, &#x27;a&#x27;, &#x27;los&#x27;,\n",
       "                            &#x27;del&#x27;, &#x27;se&#x27;, &#x27;las&#x27;, &#x27;por&#x27;, &#x27;un&#x27;, &#x27;para&#x27;, &#x27;con&#x27;,\n",
       "                            &#x27;no&#x27;, &#x27;una&#x27;, &#x27;su&#x27;, &#x27;al&#x27;, &#x27;lo&#x27;, &#x27;como&#x27;, &#x27;más&#x27;,\n",
       "                            &#x27;pero&#x27;, &#x27;sus&#x27;, &#x27;le&#x27;, &#x27;ya&#x27;, &#x27;o&#x27;, &#x27;este&#x27;, &#x27;sí&#x27;,\n",
       "                            &#x27;porque&#x27;, ...],\n",
       "                strip_accents=&#x27;ascii&#x27;)</pre></div></div></div><div class=\"sk-item\"><div class=\"sk-estimator sk-toggleable\"><input class=\"sk-toggleable__control sk-hidden--visually\" id=\"sk-estimator-id-3\" type=\"checkbox\" ><label for=\"sk-estimator-id-3\" class=\"sk-toggleable__label sk-toggleable__label-arrow\">MultinomialNB</label><div class=\"sk-toggleable__content\"><pre>MultinomialNB(alpha=0.95, fit_prior=False, force_alpha=True)</pre></div></div></div></div></div></div></div></div><div class=\"sk-parallel-item\"><div class=\"sk-item\"><div class=\"sk-label-container\"><div class=\"sk-label sk-toggleable\"><label>random_forest</label></div></div><div class=\"sk-serial\"><div class=\"sk-item\"><div class=\"sk-serial\"><div class=\"sk-item\"><div class=\"sk-estimator sk-toggleable\"><input class=\"sk-toggleable__control sk-hidden--visually\" id=\"sk-estimator-id-4\" type=\"checkbox\" ><label for=\"sk-estimator-id-4\" class=\"sk-toggleable__label sk-toggleable__label-arrow\">TfidfVectorizer</label><div class=\"sk-toggleable__content\"><pre>TfidfVectorizer(max_features=40000,\n",
       "                stop_words=[&#x27;de&#x27;, &#x27;la&#x27;, &#x27;que&#x27;, &#x27;el&#x27;, &#x27;en&#x27;, &#x27;y&#x27;, &#x27;a&#x27;, &#x27;los&#x27;,\n",
       "                            &#x27;del&#x27;, &#x27;se&#x27;, &#x27;las&#x27;, &#x27;por&#x27;, &#x27;un&#x27;, &#x27;para&#x27;, &#x27;con&#x27;,\n",
       "                            &#x27;no&#x27;, &#x27;una&#x27;, &#x27;su&#x27;, &#x27;al&#x27;, &#x27;lo&#x27;, &#x27;como&#x27;, &#x27;más&#x27;,\n",
       "                            &#x27;pero&#x27;, &#x27;sus&#x27;, &#x27;le&#x27;, &#x27;ya&#x27;, &#x27;o&#x27;, &#x27;este&#x27;, &#x27;sí&#x27;,\n",
       "                            &#x27;porque&#x27;, ...],\n",
       "                strip_accents=&#x27;ascii&#x27;)</pre></div></div></div><div class=\"sk-item\"><div class=\"sk-estimator sk-toggleable\"><input class=\"sk-toggleable__control sk-hidden--visually\" id=\"sk-estimator-id-5\" type=\"checkbox\" ><label for=\"sk-estimator-id-5\" class=\"sk-toggleable__label sk-toggleable__label-arrow\">RandomForestClassifier</label><div class=\"sk-toggleable__content\"><pre>RandomForestClassifier(criterion=&#x27;entropy&#x27;, min_samples_split=16)</pre></div></div></div></div></div></div></div></div><div class=\"sk-parallel-item\"><div class=\"sk-item\"><div class=\"sk-label-container\"><div class=\"sk-label sk-toggleable\"><label>xgboost</label></div></div><div class=\"sk-serial\"><div class=\"sk-item\"><div class=\"sk-serial\"><div class=\"sk-item\"><div class=\"sk-estimator sk-toggleable\"><input class=\"sk-toggleable__control sk-hidden--visually\" id=\"sk-estimator-id-6\" type=\"checkbox\" ><label for=\"sk-estimator-id-6\" class=\"sk-toggleable__label sk-toggleable__label-arrow\">TfidfVectorizer</label><div class=\"sk-toggleable__content\"><pre>TfidfVectorizer(max_features=40000,\n",
       "                stop_words=[&#x27;de&#x27;, &#x27;la&#x27;, &#x27;que&#x27;, &#x27;el&#x27;, &#x27;en&#x27;, &#x27;y&#x27;, &#x27;a&#x27;, &#x27;los&#x27;,\n",
       "                            &#x27;del&#x27;, &#x27;se&#x27;, &#x27;las&#x27;, &#x27;por&#x27;, &#x27;un&#x27;, &#x27;para&#x27;, &#x27;con&#x27;,\n",
       "                            &#x27;no&#x27;, &#x27;una&#x27;, &#x27;su&#x27;, &#x27;al&#x27;, &#x27;lo&#x27;, &#x27;como&#x27;, &#x27;más&#x27;,\n",
       "                            &#x27;pero&#x27;, &#x27;sus&#x27;, &#x27;le&#x27;, &#x27;ya&#x27;, &#x27;o&#x27;, &#x27;este&#x27;, &#x27;sí&#x27;,\n",
       "                            &#x27;porque&#x27;, ...],\n",
       "                strip_accents=&#x27;ascii&#x27;)</pre></div></div></div><div class=\"sk-item\"><div class=\"sk-estimator sk-toggleable\"><input class=\"sk-toggleable__control sk-hidden--visually\" id=\"sk-estimator-id-7\" type=\"checkbox\" ><label for=\"sk-estimator-id-7\" class=\"sk-toggleable__label sk-toggleable__label-arrow\">XGBClassifier</label><div class=\"sk-toggleable__content\"><pre>XGBClassifier(base_score=None, booster=None, callbacks=None,\n",
       "              colsample_bylevel=None, colsample_bynode=None,\n",
       "              colsample_bytree=None, early_stopping_rounds=None,\n",
       "              enable_categorical=False, eval_metric=None, feature_types=None,\n",
       "              gamma=None, gpu_id=None, grow_policy=None, importance_type=None,\n",
       "              interaction_constraints=None, learning_rate=None, max_bin=None,\n",
       "              max_cat_threshold=None, max_cat_to_onehot=None,\n",
       "              max_delta_step=None, max_depth=None, max_leaves=None,\n",
       "              min_child_weight=None, missing=nan, monotone_constraints=None,\n",
       "              n_estimators=100, n_jobs=-1, num_parallel_tree=None,\n",
       "              predictor=None, random_state=None, ...)</pre></div></div></div></div></div></div></div></div></div></div></div></div>"
      ],
      "text/plain": [
       "VotingClassifier(estimators=[('bayes_naive',\n",
       "                              Pipeline(steps=[('tfidfvectorizer',\n",
       "                                               TfidfVectorizer(max_features=40000,\n",
       "                                                               stop_words=['de',\n",
       "                                                                           'la',\n",
       "                                                                           'que',\n",
       "                                                                           'el',\n",
       "                                                                           'en',\n",
       "                                                                           'y',\n",
       "                                                                           'a',\n",
       "                                                                           'los',\n",
       "                                                                           'del',\n",
       "                                                                           'se',\n",
       "                                                                           'las',\n",
       "                                                                           'por',\n",
       "                                                                           'un',\n",
       "                                                                           'para',\n",
       "                                                                           'con',\n",
       "                                                                           'no',\n",
       "                                                                           'una',\n",
       "                                                                           'su',\n",
       "                                                                           'al',\n",
       "                                                                           'lo',\n",
       "                                                                           'como',\n",
       "                                                                           'más',\n",
       "                                                                           'pero',\n",
       "                                                                           'sus',\n",
       "                                                                           'le',\n",
       "                                                                           'ya',\n",
       "                                                                           'o',\n",
       "                                                                           'este',\n",
       "                                                                           'sí',\n",
       "                                                                           'porque', ...],\n",
       "                                                               strip_accents='ascii')),\n",
       "                                              ('multinomialnb',\n",
       "                                               Multinomia...\n",
       "                                                             gpu_id=None,\n",
       "                                                             grow_policy=None,\n",
       "                                                             importance_type=None,\n",
       "                                                             interaction_constraints=None,\n",
       "                                                             learning_rate=None,\n",
       "                                                             max_bin=None,\n",
       "                                                             max_cat_threshold=None,\n",
       "                                                             max_cat_to_onehot=None,\n",
       "                                                             max_delta_step=None,\n",
       "                                                             max_depth=None,\n",
       "                                                             max_leaves=None,\n",
       "                                                             min_child_weight=None,\n",
       "                                                             missing=nan,\n",
       "                                                             monotone_constraints=None,\n",
       "                                                             n_estimators=100,\n",
       "                                                             n_jobs=-1,\n",
       "                                                             num_parallel_tree=None,\n",
       "                                                             predictor=None,\n",
       "                                                             random_state=None, ...))]))])"
      ]
     },
     "execution_count": 26,
     "metadata": {},
     "output_type": "execute_result"
    }
   ],
   "source": [
    "from sklearn.ensemble import VotingClassifier\n",
    "\n",
    "#Creo ensemble de Votación\n",
    "voting = VotingClassifier(estimators = [('bayes_naive', bayes_naive), ('random_forest', random_forest), ('xgboost', xgboost)], voting = 'hard')\n",
    "\n",
    "#Entreno el ensemble\n",
    "voting.fit(x_train, y_train)"
   ]
  },
  {
   "cell_type": "code",
   "execution_count": 27,
   "metadata": {},
   "outputs": [
    {
     "name": "stdout",
     "output_type": "stream",
     "text": [
      "              precision    recall  f1-score   support\n",
      "\n",
      "           0      0.869     0.849     0.859      7206\n",
      "           1      0.854     0.873     0.863      7249\n",
      "\n",
      "    accuracy                          0.861     14455\n",
      "   macro avg      0.861     0.861     0.861     14455\n",
      "weighted avg      0.861     0.861     0.861     14455\n",
      "\n"
     ]
    },
    {
     "data": {
      "image/png": "[encoded data removed]",
      "text/plain": [
       "<Figure size 640x480 with 2 Axes>"
      ]
     },
     "metadata": {},
     "output_type": "display_data"
    }
   ],
   "source": [
    "y_pred=voting.predict(x_test)\n",
    "\n",
    "metricas(y_pred,y_test)"
   ]
  },
  {
   "cell_type": "code",
   "execution_count": 29,
   "metadata": {},
   "outputs": [],
   "source": [
    "guardar_y_predecir(voting,\"voting\")"
   ]
  },
  {
   "attachments": {},
   "cell_type": "markdown",
   "metadata": {},
   "source": [
    "Optimizo hiperparámetros con RandomSearch"
   ]
  },
  {
   "cell_type": "code",
   "execution_count": 32,
   "metadata": {},
   "outputs": [
    {
     "name": "stdout",
     "output_type": "stream",
     "text": [
      "Fitting 5 folds for each of 4 candidates, totalling 20 fits\n"
     ]
    }
   ],
   "source": [
    "##KFOLD CV Random Search para buscar el mejor arbol (los mejores atributos, hiperparametros,etc)\n",
    "from sklearn.model_selection import StratifiedKFold, RandomizedSearchCV\n",
    "from sklearn.metrics import make_scorer\n",
    "\n",
    "#Cantidad de combinaciones que quiero probar\n",
    "n=4\n",
    "\n",
    "#Conjunto de parámetros que quiero usar\n",
    "params_grid = {\n",
    "    'voting': ['hard', 'soft'],\n",
    "    'flatten_transform': [True, False],\n",
    "}\n",
    "                \n",
    "#Cantidad de splits para el Cross Validation\n",
    "folds=5\n",
    "\n",
    "#Kfold estratificado\n",
    "kfoldcv = StratifiedKFold(n_splits=folds)\n",
    "\n",
    "#Clasificador\n",
    "voting = VotingClassifier(estimators = [('bayes_naive', bayes_naive), ('random_forest', random_forest), ('xgboost', xgboost)])\n",
    "\n",
    "#Metrica que quiero optimizar F1 Score\n",
    "scorer_fn = make_scorer(sk.metrics.f1_score)\n",
    "\n",
    "#Random Search Cross Validation\n",
    "randomcv = RandomizedSearchCV(estimator=voting,\n",
    "                              param_distributions = params_grid,\n",
    "                              scoring=scorer_fn,\n",
    "                              cv=kfoldcv,\n",
    "                              n_iter=n, verbose=1, n_jobs=-1) \n",
    "\n",
    "#Busco los hiperparamtros que optimizan F1 Score\n",
    "model_voting = randomcv.fit(x_train,y_train)"
   ]
  },
  {
   "cell_type": "code",
   "execution_count": 33,
   "metadata": {},
   "outputs": [
    {
     "name": "stdout",
     "output_type": "stream",
     "text": [
      "              precision    recall  f1-score   support\n",
      "\n",
      "           0      0.880     0.858     0.869      7206\n",
      "           1      0.862     0.884     0.873      7249\n",
      "\n",
      "    accuracy                          0.871     14455\n",
      "   macro avg      0.871     0.871     0.871     14455\n",
      "weighted avg      0.871     0.871     0.871     14455\n",
      "\n"
     ]
    },
    {
     "data": {
      "image/png": "[encoded data removed]",
      "text/plain": [
       "<Figure size 640x480 with 2 Axes>"
      ]
     },
     "metadata": {},
     "output_type": "display_data"
    }
   ],
   "source": [
    "#Mejor estimador\n",
    "best_voting=model_voting.best_estimator_\n",
    "\n",
    "#Predicción con mejor estimador\n",
    "y_pred=best_voting.predict(x_test)\n",
    "\n",
    "metricas(y_pred,y_test)"
   ]
  },
  {
   "cell_type": "code",
   "execution_count": 34,
   "metadata": {},
   "outputs": [],
   "source": [
    "guardar_y_predecir(best_voting,\"voting_hiperparametros\")"
   ]
  },
  {
   "attachments": {},
   "cell_type": "markdown",
   "metadata": {},
   "source": [
    "# Red neuronal"
   ]
  },
  {
   "cell_type": "code",
   "execution_count": 10,
   "metadata": {},
   "outputs": [
    {
     "name": "stderr",
     "output_type": "stream",
     "text": [
      "2023-06-29 00:30:51.332993: I tensorflow/tsl/cuda/cudart_stub.cc:28] Could not find cuda drivers on your machine, GPU will not be used.\n",
      "2023-06-29 00:30:51.634460: I tensorflow/tsl/cuda/cudart_stub.cc:28] Could not find cuda drivers on your machine, GPU will not be used.\n",
      "2023-06-29 00:30:52.827788: W tensorflow/compiler/tf2tensorrt/utils/py_utils.cc:38] TF-TRT Warning: Could not find TensorRT\n"
     ]
    }
   ],
   "source": [
    "import tensorflow as tf\n",
    "from tensorflow import keras"
   ]
  },
  {
   "cell_type": "code",
   "execution_count": 22,
   "metadata": {},
   "outputs": [
    {
     "name": "stdout",
     "output_type": "stream",
     "text": [
      "Model: \"sequential_2\"\n",
      "_________________________________________________________________\n",
      " Layer (type)                Output Shape              Param #   \n",
      "=================================================================\n",
      " dense_6 (Dense)             (None, 40000)             80000     \n",
      "                                                                 \n",
      " dense_7 (Dense)             (None, 100)               4000100   \n",
      "                                                                 \n",
      " dense_8 (Dense)             (None, 1)                 101       \n",
      "                                                                 \n",
      "=================================================================\n",
      "Total params: 4,080,201\n",
      "Trainable params: 4,080,201\n",
      "Non-trainable params: 0\n",
      "_________________________________________________________________\n"
     ]
    }
   ],
   "source": [
    "# calcula la cantidad de clases\n",
    "\n",
    "modelo1 = keras.Sequential([\n",
    "    keras.layers.Dense(40000,input_shape=(1,), activation='relu',kernel_initializer='uniform'),\n",
    "    keras.layers.Dense(100,activation='relu'),\n",
    "    keras.layers.Dense(1, activation='sigmoid')])\n",
    "\n",
    "modelo1.summary()"
   ]
  },
  {
   "cell_type": "code",
   "execution_count": 20,
   "metadata": {},
   "outputs": [
    {
     "ename": "ValueError",
     "evalue": "in user code:\n\n    File \"/home/facundo/.local/lib/python3.9/site-packages/keras/engine/training.py\", line 1284, in train_function  *\n        return step_function(self, iterator)\n    File \"/home/facundo/.local/lib/python3.9/site-packages/keras/engine/training.py\", line 1268, in step_function  **\n        outputs = model.distribute_strategy.run(run_step, args=(data,))\n    File \"/home/facundo/.local/lib/python3.9/site-packages/keras/engine/training.py\", line 1249, in run_step  **\n        outputs = model.train_step(data)\n    File \"/home/facundo/.local/lib/python3.9/site-packages/keras/engine/training.py\", line 1050, in train_step\n        y_pred = self(x, training=True)\n    File \"/home/facundo/.local/lib/python3.9/site-packages/keras/utils/traceback_utils.py\", line 70, in error_handler\n        raise e.with_traceback(filtered_tb) from None\n    File \"/home/facundo/.local/lib/python3.9/site-packages/keras/engine/input_spec.py\", line 280, in assert_input_compatibility\n        raise ValueError(\n\n    ValueError: Exception encountered when calling layer 'sequential_1' (type Sequential).\n    \n    Input 0 of layer \"dense_3\" is incompatible with the layer: expected axis -1 of input shape to have value 2, but received input with shape (None, 1)\n    \n    Call arguments received by layer 'sequential_1' (type Sequential):\n      • inputs=tf.Tensor(shape=(None, 1), dtype=string)\n      • training=True\n      • mask=None\n",
     "output_type": "error",
     "traceback": [
      "\u001b[0;31m---------------------------------------------------------------------------\u001b[0m",
      "\u001b[0;31mValueError\u001b[0m                                Traceback (most recent call last)",
      "Cell \u001b[0;32mIn[20], line 9\u001b[0m\n\u001b[1;32m      1\u001b[0m modelo1\u001b[39m.\u001b[39mcompile(\n\u001b[1;32m      2\u001b[0m   optimizer\u001b[39m=\u001b[39mkeras\u001b[39m.\u001b[39moptimizers\u001b[39m.\u001b[39mSGD(learning_rate\u001b[39m=\u001b[39m\u001b[39m0.01\u001b[39m), \n\u001b[1;32m      3\u001b[0m   loss\u001b[39m=\u001b[39m\u001b[39m'\u001b[39m\u001b[39mbinary_crossentropy\u001b[39m\u001b[39m'\u001b[39m, \n\u001b[1;32m      4\u001b[0m   \u001b[39m# metricas para ir calculando en cada iteracion o batch \u001b[39;00m\n\u001b[1;32m      5\u001b[0m   metrics\u001b[39m=\u001b[39m[\u001b[39m'\u001b[39m\u001b[39mAUC\u001b[39m\u001b[39m'\u001b[39m], \n\u001b[1;32m      6\u001b[0m )\n\u001b[1;32m      8\u001b[0m cant_epochs\u001b[39m=\u001b[39m\u001b[39m100\u001b[39m\n\u001b[0;32m----> 9\u001b[0m modelo_red \u001b[39m=\u001b[39m modelo1\u001b[39m.\u001b[39;49mfit(x_train,y_train,epochs\u001b[39m=\u001b[39;49mcant_epochs,batch_size\u001b[39m=\u001b[39;49m\u001b[39m50\u001b[39;49m,verbose\u001b[39m=\u001b[39;49m\u001b[39mFalse\u001b[39;49;00m)\n",
      "File \u001b[0;32m~/.local/lib/python3.9/site-packages/keras/utils/traceback_utils.py:70\u001b[0m, in \u001b[0;36mfilter_traceback.<locals>.error_handler\u001b[0;34m(*args, **kwargs)\u001b[0m\n\u001b[1;32m     67\u001b[0m     filtered_tb \u001b[39m=\u001b[39m _process_traceback_frames(e\u001b[39m.\u001b[39m__traceback__)\n\u001b[1;32m     68\u001b[0m     \u001b[39m# To get the full stack trace, call:\u001b[39;00m\n\u001b[1;32m     69\u001b[0m     \u001b[39m# `tf.debugging.disable_traceback_filtering()`\u001b[39;00m\n\u001b[0;32m---> 70\u001b[0m     \u001b[39mraise\u001b[39;00m e\u001b[39m.\u001b[39mwith_traceback(filtered_tb) \u001b[39mfrom\u001b[39;00m \u001b[39mNone\u001b[39m\n\u001b[1;32m     71\u001b[0m \u001b[39mfinally\u001b[39;00m:\n\u001b[1;32m     72\u001b[0m     \u001b[39mdel\u001b[39;00m filtered_tb\n",
      "File \u001b[0;32m/tmp/__autograph_generated_fileung36_t5.py:15\u001b[0m, in \u001b[0;36mouter_factory.<locals>.inner_factory.<locals>.tf__train_function\u001b[0;34m(iterator)\u001b[0m\n\u001b[1;32m     13\u001b[0m \u001b[39mtry\u001b[39;00m:\n\u001b[1;32m     14\u001b[0m     do_return \u001b[39m=\u001b[39m \u001b[39mTrue\u001b[39;00m\n\u001b[0;32m---> 15\u001b[0m     retval_ \u001b[39m=\u001b[39m ag__\u001b[39m.\u001b[39mconverted_call(ag__\u001b[39m.\u001b[39mld(step_function), (ag__\u001b[39m.\u001b[39mld(\u001b[39mself\u001b[39m), ag__\u001b[39m.\u001b[39mld(iterator)), \u001b[39mNone\u001b[39;00m, fscope)\n\u001b[1;32m     16\u001b[0m \u001b[39mexcept\u001b[39;00m:\n\u001b[1;32m     17\u001b[0m     do_return \u001b[39m=\u001b[39m \u001b[39mFalse\u001b[39;00m\n",
      "\u001b[0;31mValueError\u001b[0m: in user code:\n\n    File \"/home/facundo/.local/lib/python3.9/site-packages/keras/engine/training.py\", line 1284, in train_function  *\n        return step_function(self, iterator)\n    File \"/home/facundo/.local/lib/python3.9/site-packages/keras/engine/training.py\", line 1268, in step_function  **\n        outputs = model.distribute_strategy.run(run_step, args=(data,))\n    File \"/home/facundo/.local/lib/python3.9/site-packages/keras/engine/training.py\", line 1249, in run_step  **\n        outputs = model.train_step(data)\n    File \"/home/facundo/.local/lib/python3.9/site-packages/keras/engine/training.py\", line 1050, in train_step\n        y_pred = self(x, training=True)\n    File \"/home/facundo/.local/lib/python3.9/site-packages/keras/utils/traceback_utils.py\", line 70, in error_handler\n        raise e.with_traceback(filtered_tb) from None\n    File \"/home/facundo/.local/lib/python3.9/site-packages/keras/engine/input_spec.py\", line 280, in assert_input_compatibility\n        raise ValueError(\n\n    ValueError: Exception encountered when calling layer 'sequential_1' (type Sequential).\n    \n    Input 0 of layer \"dense_3\" is incompatible with the layer: expected axis -1 of input shape to have value 2, but received input with shape (None, 1)\n    \n    Call arguments received by layer 'sequential_1' (type Sequential):\n      • inputs=tf.Tensor(shape=(None, 1), dtype=string)\n      • training=True\n      • mask=None\n"
     ]
    }
   ],
   "source": [
    "modelo1.compile(\n",
    "  optimizer=keras.optimizers.SGD(learning_rate=0.01), \n",
    "  loss='binary_crossentropy', \n",
    "  # metricas para ir calculando en cada iteracion o batch \n",
    "  metrics=['AUC'], \n",
    ")\n",
    "\n",
    "cant_epochs=100\n",
    "modelo_red = modelo1.fit(x_train,y_train,epochs=cant_epochs,batch_size=50,verbose=False)"
   ]
  },
  {
   "cell_type": "code",
   "execution_count": 23,
   "metadata": {},
   "outputs": [
    {
     "name": "stdout",
     "output_type": "stream",
     "text": [
      "WARNING:tensorflow:Keras is training/fitting/evaluating on array-like data. Keras may not be optimized for this format, so if your input data format is supported by TensorFlow I/O (https://github.com/tensorflow/io) we recommend using that to load a Dataset instead.\n",
      "Epoch 1/10\n"
     ]
    },
    {
     "ename": "ValueError",
     "evalue": "in user code:\n\n    File \"/home/facundo/.local/lib/python3.9/site-packages/keras/engine/training.py\", line 1284, in train_function  *\n        return step_function(self, iterator)\n    File \"/home/facundo/.local/lib/python3.9/site-packages/keras/engine/training.py\", line 1268, in step_function  **\n        outputs = model.distribute_strategy.run(run_step, args=(data,))\n    File \"/home/facundo/.local/lib/python3.9/site-packages/keras/engine/training.py\", line 1249, in run_step  **\n        outputs = model.train_step(data)\n    File \"/home/facundo/.local/lib/python3.9/site-packages/keras/engine/training.py\", line 1050, in train_step\n        y_pred = self(x, training=True)\n    File \"/home/facundo/.local/lib/python3.9/site-packages/keras/utils/traceback_utils.py\", line 70, in error_handler\n        raise e.with_traceback(filtered_tb) from None\n    File \"/home/facundo/.local/lib/python3.9/site-packages/keras/engine/input_spec.py\", line 280, in assert_input_compatibility\n        raise ValueError(\n\n    ValueError: Exception encountered when calling layer 'sequential_2' (type Sequential).\n    \n    Input 0 of layer \"dense_6\" is incompatible with the layer: expected axis -1 of input shape to have value 1, but received input with shape (None, 40000)\n    \n    Call arguments received by layer 'sequential_2' (type Sequential):\n      • inputs=tf.Tensor(shape=(None, 40000), dtype=float32)\n      • training=True\n      • mask=None\n",
     "output_type": "error",
     "traceback": [
      "\u001b[0;31m---------------------------------------------------------------------------\u001b[0m",
      "\u001b[0;31mValueError\u001b[0m                                Traceback (most recent call last)",
      "Cell \u001b[0;32mIn[23], line 13\u001b[0m\n\u001b[1;32m      1\u001b[0m pipeline \u001b[39m=\u001b[39m Pipeline([\n\u001b[1;32m      2\u001b[0m     (\u001b[39m'\u001b[39m\u001b[39mvectorizer\u001b[39m\u001b[39m'\u001b[39m, vectorizer),\n\u001b[1;32m      3\u001b[0m     (\u001b[39m'\u001b[39m\u001b[39mneural_network\u001b[39m\u001b[39m'\u001b[39m, modelo1)\n\u001b[1;32m      4\u001b[0m ])\n\u001b[1;32m      6\u001b[0m modelo1\u001b[39m.\u001b[39mcompile(\n\u001b[1;32m      7\u001b[0m   optimizer\u001b[39m=\u001b[39mkeras\u001b[39m.\u001b[39moptimizers\u001b[39m.\u001b[39mSGD(learning_rate\u001b[39m=\u001b[39m\u001b[39m0.01\u001b[39m), \n\u001b[1;32m      8\u001b[0m   loss\u001b[39m=\u001b[39m\u001b[39m'\u001b[39m\u001b[39mbinary_crossentropy\u001b[39m\u001b[39m'\u001b[39m, \n\u001b[1;32m      9\u001b[0m   \u001b[39m# metricas para ir calculando en cada iteracion o batch \u001b[39;00m\n\u001b[1;32m     10\u001b[0m   metrics\u001b[39m=\u001b[39m[\u001b[39m'\u001b[39m\u001b[39mAUC\u001b[39m\u001b[39m'\u001b[39m], \n\u001b[1;32m     11\u001b[0m )\n\u001b[0;32m---> 13\u001b[0m pipeline\u001b[39m.\u001b[39;49mfit(x_train, y_train, neural_network__epochs\u001b[39m=\u001b[39;49m\u001b[39m10\u001b[39;49m, neural_network__batch_size\u001b[39m=\u001b[39;49m\u001b[39m32\u001b[39;49m)\n",
      "File \u001b[0;32m/usr/local/lib/python3.9/dist-packages/sklearn/pipeline.py:405\u001b[0m, in \u001b[0;36mPipeline.fit\u001b[0;34m(self, X, y, **fit_params)\u001b[0m\n\u001b[1;32m    403\u001b[0m     \u001b[39mif\u001b[39;00m \u001b[39mself\u001b[39m\u001b[39m.\u001b[39m_final_estimator \u001b[39m!=\u001b[39m \u001b[39m\"\u001b[39m\u001b[39mpassthrough\u001b[39m\u001b[39m\"\u001b[39m:\n\u001b[1;32m    404\u001b[0m         fit_params_last_step \u001b[39m=\u001b[39m fit_params_steps[\u001b[39mself\u001b[39m\u001b[39m.\u001b[39msteps[\u001b[39m-\u001b[39m\u001b[39m1\u001b[39m][\u001b[39m0\u001b[39m]]\n\u001b[0;32m--> 405\u001b[0m         \u001b[39mself\u001b[39;49m\u001b[39m.\u001b[39;49m_final_estimator\u001b[39m.\u001b[39;49mfit(Xt, y, \u001b[39m*\u001b[39;49m\u001b[39m*\u001b[39;49mfit_params_last_step)\n\u001b[1;32m    407\u001b[0m \u001b[39mreturn\u001b[39;00m \u001b[39mself\u001b[39m\n",
      "File \u001b[0;32m~/.local/lib/python3.9/site-packages/keras/utils/traceback_utils.py:70\u001b[0m, in \u001b[0;36mfilter_traceback.<locals>.error_handler\u001b[0;34m(*args, **kwargs)\u001b[0m\n\u001b[1;32m     67\u001b[0m     filtered_tb \u001b[39m=\u001b[39m _process_traceback_frames(e\u001b[39m.\u001b[39m__traceback__)\n\u001b[1;32m     68\u001b[0m     \u001b[39m# To get the full stack trace, call:\u001b[39;00m\n\u001b[1;32m     69\u001b[0m     \u001b[39m# `tf.debugging.disable_traceback_filtering()`\u001b[39;00m\n\u001b[0;32m---> 70\u001b[0m     \u001b[39mraise\u001b[39;00m e\u001b[39m.\u001b[39mwith_traceback(filtered_tb) \u001b[39mfrom\u001b[39;00m \u001b[39mNone\u001b[39m\n\u001b[1;32m     71\u001b[0m \u001b[39mfinally\u001b[39;00m:\n\u001b[1;32m     72\u001b[0m     \u001b[39mdel\u001b[39;00m filtered_tb\n",
      "File \u001b[0;32m/tmp/__autograph_generated_fileung36_t5.py:15\u001b[0m, in \u001b[0;36mouter_factory.<locals>.inner_factory.<locals>.tf__train_function\u001b[0;34m(iterator)\u001b[0m\n\u001b[1;32m     13\u001b[0m \u001b[39mtry\u001b[39;00m:\n\u001b[1;32m     14\u001b[0m     do_return \u001b[39m=\u001b[39m \u001b[39mTrue\u001b[39;00m\n\u001b[0;32m---> 15\u001b[0m     retval_ \u001b[39m=\u001b[39m ag__\u001b[39m.\u001b[39mconverted_call(ag__\u001b[39m.\u001b[39mld(step_function), (ag__\u001b[39m.\u001b[39mld(\u001b[39mself\u001b[39m), ag__\u001b[39m.\u001b[39mld(iterator)), \u001b[39mNone\u001b[39;00m, fscope)\n\u001b[1;32m     16\u001b[0m \u001b[39mexcept\u001b[39;00m:\n\u001b[1;32m     17\u001b[0m     do_return \u001b[39m=\u001b[39m \u001b[39mFalse\u001b[39;00m\n",
      "\u001b[0;31mValueError\u001b[0m: in user code:\n\n    File \"/home/facundo/.local/lib/python3.9/site-packages/keras/engine/training.py\", line 1284, in train_function  *\n        return step_function(self, iterator)\n    File \"/home/facundo/.local/lib/python3.9/site-packages/keras/engine/training.py\", line 1268, in step_function  **\n        outputs = model.distribute_strategy.run(run_step, args=(data,))\n    File \"/home/facundo/.local/lib/python3.9/site-packages/keras/engine/training.py\", line 1249, in run_step  **\n        outputs = model.train_step(data)\n    File \"/home/facundo/.local/lib/python3.9/site-packages/keras/engine/training.py\", line 1050, in train_step\n        y_pred = self(x, training=True)\n    File \"/home/facundo/.local/lib/python3.9/site-packages/keras/utils/traceback_utils.py\", line 70, in error_handler\n        raise e.with_traceback(filtered_tb) from None\n    File \"/home/facundo/.local/lib/python3.9/site-packages/keras/engine/input_spec.py\", line 280, in assert_input_compatibility\n        raise ValueError(\n\n    ValueError: Exception encountered when calling layer 'sequential_2' (type Sequential).\n    \n    Input 0 of layer \"dense_6\" is incompatible with the layer: expected axis -1 of input shape to have value 1, but received input with shape (None, 40000)\n    \n    Call arguments received by layer 'sequential_2' (type Sequential):\n      • inputs=tf.Tensor(shape=(None, 40000), dtype=float32)\n      • training=True\n      • mask=None\n"
     ]
    }
   ],
   "source": [
    "pipeline = Pipeline([\n",
    "    ('vectorizer', vectorizer),\n",
    "    ('neural_network', modelo1)\n",
    "])\n",
    "\n",
    "modelo1.compile(\n",
    "  optimizer=keras.optimizers.SGD(learning_rate=0.01), \n",
    "  loss='binary_crossentropy', \n",
    "  # metricas para ir calculando en cada iteracion o batch \n",
    "  metrics=['AUC'], \n",
    ")\n",
    "\n",
    "pipeline.fit(x_train, y_train, neural_network__epochs=10, neural_network__batch_size=32)\n",
    "\n"
   ]
  },
  {
   "cell_type": "code",
   "execution_count": null,
   "metadata": {},
   "outputs": [],
   "source": [
    "accuracy = pipeline.score(X_test, y_test)\n",
    "print(accuracy)"
   ]
  },
  {
   "attachments": {},
   "cell_type": "markdown",
   "metadata": {},
   "source": [
    "raise ValueError(\\n\\n    ValueError: Exception encountered when calling layer 'sequential_2' (type Sequential).\\n    \\n    Input 0 of layer \\\"dense_6\\\" is incompatible with the layer: expected axis -1 of input shape to have value 1, but received input with shape (None, 40000)\\n    \\n    Call arguments received by layer 'sequential_2' (type Sequential):\\n      • inputs=tf.Tensor(shape=(None, 40000), dtype=float32)\\n      • training=True\\n      • mask=None\\n\"\n",
    "}"
   ]
  },
  {
   "cell_type": "code",
   "execution_count": null,
   "metadata": {},
   "outputs": [
    {
     "name": "stdout",
     "output_type": "stream",
     "text": [
      "387/387 [==============================] - 0s 756us/step\n"
     ]
    },
    {
     "data": {
      "image/png": "[encoded data removed]",
      "text/plain": [
       "<Figure size 640x480 with 2 Axes>"
      ]
     },
     "metadata": {},
     "output_type": "display_data"
    }
   ],
   "source": [
    "y_predic_ej1 = modelo1.predict(x_test_norm)\n",
    "y_predic_cat_ej1 = np.where(y_predic_ej1>0.4,1,0)\n",
    "\n",
    "ds_validacion=pd.DataFrame(y_predic_cat_ej1,y_test).reset_index()\n",
    "ds_validacion.columns=['y_pred','y_real']\n",
    "\n",
    "tabla=pd.crosstab(ds_validacion.y_pred, ds_validacion.y_real)\n",
    "grf=sns.heatmap(tabla,annot=True, cmap = 'Blues')\n",
    "plt.show()"
   ]
  }
 ],
 "metadata": {
  "kernelspec": {
   "display_name": "Python 3",
   "language": "python",
   "name": "python3"
  },
  "language_info": {
   "codemirror_mode": {
    "name": "ipython",
    "version": 3
   },
   "file_extension": ".py",
   "mimetype": "text/x-python",
   "name": "python",
   "nbconvert_exporter": "python",
   "pygments_lexer": "ipython3",
   "version": "3.9.2"
  },
  "orig_nbformat": 4
 },
 "nbformat": 4,
 "nbformat_minor": 2
}
