{
 "cells": [
  {
   "attachments": {},
   "cell_type": "markdown",
   "metadata": {},
   "source": [
    "# TP2: Críticas cinematográficas\n",
    " - 75.06 - Organización de Datos FiUBA - 2023-1c\n",
    " - Grupo11: Datatack\n",
    " - Integrante: Facundo de la plata - 100558\n"
   ]
  },
  {
   "cell_type": "code",
   "execution_count": 6,
   "metadata": {},
   "outputs": [],
   "source": [
    "import pandas as pd\n",
    "import numpy as np\n",
    "import sklearn as sk\n",
    "from sklearn.model_selection import train_test_split, GridSearchCV, RepeatedStratifiedKFold\n",
    "from sklearn.naive_bayes import MultinomialNB\n",
    "from sklearn.feature_extraction.text import CountVectorizer, TfidfVectorizer\n",
    "from sklearn.pipeline import make_pipeline\n",
    "from sklearn.metrics import confusion_matrix\n"
   ]
  },
  {
   "cell_type": "code",
   "execution_count": 7,
   "metadata": {},
   "outputs": [],
   "source": [
    "ds_test = pd.read_csv(\"./datasets/test.csv\")\n",
    "ds_train = pd.read_csv(\"./datasets/train.csv\")\n",
    "ds_train_original = ds_train.copy()\n",
    "ds_test_original = ds_test.copy()"
   ]
  },
  {
   "attachments": {},
   "cell_type": "markdown",
   "metadata": {},
   "source": [
    "### Funciones útiles:"
   ]
  },
  {
   "cell_type": "code",
   "execution_count": 1,
   "metadata": {},
   "outputs": [],
   "source": [
    "import pickle\n",
    "\n",
    "def guardar_modelo(model, filename):\n",
    "    # save the model to disk\n",
    "    pickle.dump(model, open(filename, 'wb'))\n",
    "\n",
    "def cargar_modelo(filename):\n",
    "    with open(filename, 'rb') as archivo:\n",
    "        return pickle.load(archivo)"
   ]
  },
  {
   "cell_type": "code",
   "execution_count": 2,
   "metadata": {},
   "outputs": [],
   "source": [
    "from sklearn.metrics import classification_report\n",
    "import seaborn as sns\n",
    "import matplotlib.pyplot as plt\n",
    "\n",
    "def metricas(y_pred,y_test):\n",
    "\n",
    "  print(classification_report(y_test,y_pred, digits=3))\n",
    "  \n",
    "  cm = confusion_matrix(y_test,y_pred)\n",
    "  sns.heatmap(cm, cmap='Blues',annot=True,fmt='g')\n",
    "  plt.xlabel('Predicted')\n",
    "  plt.ylabel('True')"
   ]
  },
  {
   "cell_type": "code",
   "execution_count": 3,
   "metadata": {},
   "outputs": [],
   "source": [
    "def guardar_prediccion(y_prediccion, ds_test, name):\n",
    "    sub = pd.DataFrame(ds_test)\n",
    "    submition=pd.DataFrame(y_prediccion)\n",
    "    submition.rename(columns={0: \"sentimiento\"})\n",
    "    sub[\"sentimiento\"] = submition\n",
    "    sub.drop('review_es', axis=1,  inplace=True)\n",
    "    sub['sentimiento'] = sub['sentimiento'].replace({1:'positivo', 0: 'negativo'})\n",
    "    sub.to_csv(name, index=False)"
   ]
  },
  {
   "cell_type": "code",
   "execution_count": 4,
   "metadata": {},
   "outputs": [],
   "source": [
    "def guardar_y_predecir(modelo, nombre):\n",
    "    guardar_modelo(modelo, \"./modelos/\" + nombre + \".sav\")\n",
    "\n",
    "    # Genero una predicción\n",
    "    y_prediccion = modelo.predict(ds_test['review_es'])\n",
    "\n",
    "    # Guardo la predicción\n",
    "    guardar_prediccion(y_prediccion, ds_test, \"./predicciones/\"+ nombre + \".csv\")"
   ]
  },
  {
   "attachments": {},
   "cell_type": "markdown",
   "metadata": {},
   "source": [
    "Cargo el dataset filtrado y el vectorizer"
   ]
  },
  {
   "cell_type": "code",
   "execution_count": 8,
   "metadata": {},
   "outputs": [],
   "source": [
    "ds_train_filtrado = ds_train = pd.read_csv(\"./datasets/ds_train_filtrado.csv\")\n",
    "vectorizer = cargar_modelo(\"./modelos/vectorizer.sav\")"
   ]
  },
  {
   "cell_type": "code",
   "execution_count": 9,
   "metadata": {},
   "outputs": [],
   "source": [
    "#Genero los conjuntos de train y de test\n",
    "\n",
    "x_train, x_test, y_train, y_test = train_test_split(ds_train_filtrado['review_es'],\n",
    "                                                    ds_train_filtrado['sentimiento'], \n",
    "                                                    test_size=0.3, \n",
    "                                                    random_state=25,\n",
    "                                                    shuffle=True\n",
    "                                                    )\n"
   ]
  },
  {
   "attachments": {},
   "cell_type": "markdown",
   "metadata": {},
   "source": [
    "# 1) Bayes Naive"
   ]
  },
  {
   "cell_type": "code",
   "execution_count": 10,
   "metadata": {},
   "outputs": [
    {
     "name": "stdout",
     "output_type": "stream",
     "text": [
      "              precision    recall  f1-score   support\n",
      "\n",
      "           0      0.849     0.863     0.856      7206\n",
      "           1      0.862     0.848     0.855      7249\n",
      "\n",
      "    accuracy                          0.856     14455\n",
      "   macro avg      0.856     0.856     0.856     14455\n",
      "weighted avg      0.856     0.856     0.856     14455\n",
      "\n"
     ]
    },
    {
     "data": {
      "image/png": "[encoded data removed]",
      "text/plain": [
       "<Figure size 640x480 with 2 Axes>"
      ]
     },
     "metadata": {},
     "output_type": "display_data"
    }
   ],
   "source": [
    "model1 = make_pipeline(vectorizer, MultinomialNB())\n",
    "model1.fit(x_train, y_train)\n",
    "predicted1 = model1.predict(x_test)\n",
    "metricas(predicted1,y_test)"
   ]
  },
  {
   "cell_type": "code",
   "execution_count": 35,
   "metadata": {},
   "outputs": [],
   "source": [
    "guardar_y_predecir(model1,\"bayes_naive_model1_filter-stop-max40000\")"
   ]
  },
  {
   "attachments": {},
   "cell_type": "markdown",
   "metadata": {},
   "source": [
    "Hago randomSearch para optimizar los hiperparámetros"
   ]
  },
  {
   "cell_type": "code",
   "execution_count": 11,
   "metadata": {},
   "outputs": [],
   "source": [
    "##KFOLD CV Random Search para buscar el mejor arbol (los mejores atributos, hiperparametros,etc)\n",
    "from sklearn.model_selection import StratifiedKFold,RandomizedSearchCV\n",
    "from sklearn.metrics import make_scorer\n",
    "\n",
    "#Cantidad de combinaciones que quiero probar\n",
    "n=40\n",
    "\n",
    "#Conjunto de parámetros que quiero usar\n",
    "params_grid = {\n",
    "    'multinomialnb__alpha': [0.1, 0.4, 0.5, 1.0],\n",
    "    'multinomialnb__force_alpha': [True, False],\n",
    "    'multinomialnb__class_prior': [None, [0.3, 0.7], [0.5, 0.5]],\n",
    "    'multinomialnb__fit_prior': [True, False]\n",
    "}\n",
    "                \n",
    "#Cantidad de splits para el Cross Validation\n",
    "folds=5\n",
    "\n",
    "#Kfold estratificado\n",
    "kfoldcv = StratifiedKFold(n_splits=folds)\n",
    "\n",
    "#Clasificador\n",
    "pipeline = make_pipeline(\n",
    "    vectorizer,\n",
    "    MultinomialNB()\n",
    ")\n",
    "#Metrica que quiero optimizar F1 Score\n",
    "scorer_fn = make_scorer(sk.metrics.f1_score)\n",
    "\n",
    "#Random Search Cross Validation\n",
    "randomcv = RandomizedSearchCV(estimator=pipeline,\n",
    "                              param_distributions = params_grid,\n",
    "                              scoring=scorer_fn,\n",
    "                              cv=kfoldcv,\n",
    "                              n_iter=n, n_jobs=-1)\n",
    "\n",
    "#Busco los hiperparamtros que optimizan F1 Score\n",
    "model= randomcv.fit(x_train,y_train)\n"
   ]
  },
  {
   "cell_type": "code",
   "execution_count": 43,
   "metadata": {},
   "outputs": [
    {
     "name": "stdout",
     "output_type": "stream",
     "text": [
      "{'multinomialnb__force_alpha': True, 'multinomialnb__fit_prior': True, 'multinomialnb__class_prior': [0.5, 0.5], 'multinomialnb__alpha': 1.0}\n",
      "              precision    recall  f1-score   support\n",
      "\n",
      "    negativo      0.851     0.861     0.856      7206\n",
      "    positivo      0.860     0.850     0.855      7249\n",
      "\n",
      "    accuracy                          0.855     14455\n",
      "   macro avg      0.856     0.855     0.855     14455\n",
      "weighted avg      0.856     0.855     0.855     14455\n",
      "\n"
     ]
    },
    {
     "data": {
      "image/png": "[encoded data removed]",
      "text/plain": [
       "<Figure size 640x480 with 2 Axes>"
      ]
     },
     "metadata": {},
     "output_type": "display_data"
    }
   ],
   "source": [
    "#Mejor estimador\n",
    "best_bayes=model.best_estimator_\n",
    "\n",
    "#Mejores parámetros\n",
    "print(model.best_params_)\n",
    "\n",
    "#Predicción con mejor estimador\n",
    "y_pred=best_bayes.predict(x_test)\n",
    "\n",
    "metricas(y_pred,y_test)"
   ]
  },
  {
   "cell_type": "code",
   "execution_count": 44,
   "metadata": {},
   "outputs": [],
   "source": [
    "guardar_y_predecir(best_bayes,\"bayes_naive_best_model_filtrado_final\")"
   ]
  },
  {
   "attachments": {},
   "cell_type": "markdown",
   "metadata": {},
   "source": [
    "# 2) Random Forest"
   ]
  },
  {
   "cell_type": "code",
   "execution_count": 45,
   "metadata": {},
   "outputs": [],
   "source": [
    "from sklearn.ensemble import RandomForestClassifier\n",
    "\n",
    "# Build the model\n",
    "modelRF = make_pipeline(vectorizer, RandomForestClassifier(n_jobs=-1))\n",
    "# Indice de frecuencia invertido. Normaliza la cantidad de palabras.\n",
    "# Le da mayor importancia a las palabras que menos aparecen\n",
    "\n",
    "# Train the model using the training data\n",
    "modelRF.fit(x_train, y_train)\n",
    "\n",
    "# Predict the categories of the test data\n",
    "predicted1 = modelRF.predict(x_test)"
   ]
  },
  {
   "cell_type": "code",
   "execution_count": 46,
   "metadata": {},
   "outputs": [
    {
     "name": "stdout",
     "output_type": "stream",
     "text": [
      "              precision    recall  f1-score   support\n",
      "\n",
      "    negativo      0.830     0.855     0.842      7206\n",
      "    positivo      0.851     0.826     0.838      7249\n",
      "\n",
      "    accuracy                          0.840     14455\n",
      "   macro avg      0.840     0.840     0.840     14455\n",
      "weighted avg      0.841     0.840     0.840     14455\n",
      "\n"
     ]
    },
    {
     "data": {
      "image/png": "[encoded data removed]",
      "text/plain": [
       "<Figure size 640x480 with 2 Axes>"
      ]
     },
     "metadata": {},
     "output_type": "display_data"
    }
   ],
   "source": [
    "metricas(predicted1,y_test)"
   ]
  },
  {
   "cell_type": "code",
   "execution_count": 47,
   "metadata": {},
   "outputs": [],
   "source": [
    "guardar_y_predecir(modelRF,\"random_forest-filtrado\")"
   ]
  },
  {
   "attachments": {},
   "cell_type": "markdown",
   "metadata": {},
   "source": [
    "Hago un randomsearch para optimizar los hiperparámetros"
   ]
  },
  {
   "cell_type": "code",
   "execution_count": 49,
   "metadata": {},
   "outputs": [],
   "source": [
    "##KFOLD CV Random Search para buscar el mejor arbol (los mejores atributos, hiperparametros,etc)\n",
    "from sklearn.model_selection import StratifiedKFold,RandomizedSearchCV\n",
    "from sklearn.metrics import make_scorer\n",
    "\n",
    "#Cantidad de combinaciones que quiero probar\n",
    "n=40\n",
    "\n",
    "#Conjunto de parámetros que quiero usar\n",
    "params_grid = { \"randomforestclassifier__criterion\" : [\"gini\", \"entropy\"], \n",
    "                \"randomforestclassifier__min_samples_leaf\" : [1, 5, 10], \n",
    "                \"randomforestclassifier__min_samples_split\" : [2, 4, 10, 16], \n",
    "                \"randomforestclassifier__n_estimators\": [10, 20, 50, 100],\n",
    "}\n",
    "                \n",
    "#Cantidad de splits para el Cross Validation\n",
    "folds=5\n",
    "\n",
    "#Kfold estratificado\n",
    "kfoldcv = StratifiedKFold(n_splits=folds)\n",
    "\n",
    "#Clasificador\n",
    "pipeline = make_pipeline(\n",
    "    vectorizer,\n",
    "    RandomForestClassifier()\n",
    ")\n",
    "#Metrica que quiero optimizar F1 Score\n",
    "scorer_fn = make_scorer(sk.metrics.f1_score)\n",
    "\n",
    "#Random Search Cross Validation\n",
    "randomcv = RandomizedSearchCV(estimator=pipeline,\n",
    "                              param_distributions = params_grid,\n",
    "                              scoring=scorer_fn,\n",
    "                              cv=kfoldcv,\n",
    "                              n_iter=n, n_jobs=-1) \n",
    "\n",
    "#Busco los hiperparamtros que optimizan F1 Score\n",
    "model = randomcv.fit(x_train,y_train)"
   ]
  },
  {
   "cell_type": "code",
   "execution_count": 50,
   "metadata": {},
   "outputs": [
    {
     "name": "stdout",
     "output_type": "stream",
     "text": [
      "{'randomforestclassifier__n_estimators': 100, 'randomforestclassifier__min_samples_split': 16, 'randomforestclassifier__min_samples_leaf': 1, 'randomforestclassifier__criterion': 'entropy'}\n",
      "              precision    recall  f1-score   support\n",
      "\n",
      "    negativo      0.843     0.846     0.845      7206\n",
      "    positivo      0.847     0.843     0.845      7249\n",
      "\n",
      "    accuracy                          0.845     14455\n",
      "   macro avg      0.845     0.845     0.845     14455\n",
      "weighted avg      0.845     0.845     0.845     14455\n",
      "\n"
     ]
    },
    {
     "data": {
      "image/png": "[encoded data removed]",
      "text/plain": [
       "<Figure size 640x480 with 2 Axes>"
      ]
     },
     "metadata": {},
     "output_type": "display_data"
    }
   ],
   "source": [
    "#Mejor estimador\n",
    "best_RF=model.best_estimator_\n",
    "\n",
    "#Mejores parametros\n",
    "print(model.best_params_)\n",
    "\n",
    "#Predicción con mejor estimador\n",
    "y_pred=best_RF.predict(x_test)\n",
    "\n",
    "metricas(y_pred,y_test)"
   ]
  },
  {
   "cell_type": "code",
   "execution_count": 51,
   "metadata": {},
   "outputs": [],
   "source": [
    "guardar_y_predecir(best_RF,\"random_forest_best-filtrado\")"
   ]
  },
  {
   "attachments": {},
   "cell_type": "markdown",
   "metadata": {},
   "source": [
    "# 3) XGBoost"
   ]
  },
  {
   "cell_type": "code",
   "execution_count": 34,
   "metadata": {},
   "outputs": [
    {
     "name": "stdout",
     "output_type": "stream",
     "text": [
      "              precision    recall  f1-score   support\n",
      "\n",
      "           0      0.856     0.816     0.835      7206\n",
      "           1      0.825     0.863     0.844      7249\n",
      "\n",
      "    accuracy                          0.840     14455\n",
      "   macro avg      0.840     0.840     0.839     14455\n",
      "weighted avg      0.840     0.840     0.839     14455\n",
      "\n"
     ]
    },
    {
     "data": {
      "image/png": "[encoded data removed]",
      "text/plain": [
       "<Figure size 640x480 with 2 Axes>"
      ]
     },
     "metadata": {},
     "output_type": "display_data"
    }
   ],
   "source": [
    "from xgboost import XGBClassifier\n",
    "# Build the model\n",
    "\n",
    "modelXGB = make_pipeline(vectorizer, XGBClassifier())\n",
    "\n",
    "# Train the model using the training data\n",
    "modelXGB.fit(x_train, y_train)\n",
    "\n",
    "# Predict the categories of the test data\n",
    "predictedXGB = modelXGB.predict(x_test)\n",
    "\n",
    "metricas(predictedXGB,y_test)"
   ]
  },
  {
   "cell_type": "code",
   "execution_count": 67,
   "metadata": {},
   "outputs": [],
   "source": [
    "guardar_y_predecir(modelXGB,\"XGBoost-filtrado\")"
   ]
  },
  {
   "attachments": {},
   "cell_type": "markdown",
   "metadata": {},
   "source": [
    "Hago un randomSearch para optimizar los hiperparámetros"
   ]
  },
  {
   "cell_type": "code",
   "execution_count": 35,
   "metadata": {},
   "outputs": [],
   "source": [
    "##KFOLD CV Random Search para buscar el mejor arbol (los mejores atributos, hiperparametros,etc)\n",
    "from sklearn.model_selection import StratifiedKFold, RandomizedSearchCV\n",
    "from sklearn.metrics import make_scorer\n",
    "\n",
    "#Cantidad de combinaciones que quiero probar\n",
    "n=40\n",
    "\n",
    "#Conjunto de parámetros que quiero usar\n",
    "params_grid = {\n",
    "    'xgbclassifier__max_depth': [3, 5, 7],\n",
    "    'xgbclassifier__learning_rate': [0.05, 0.1, 0.15],\n",
    "    'xgbclassifier__subsample': [0.6, 0.8, 1.0],\n",
    "    'xgbclassifier__gamma': [0, 0.1, 0.5],\n",
    "}\n",
    "                \n",
    "#Cantidad de splits para el Cross Validation\n",
    "folds=5\n",
    "\n",
    "#Kfold estratificado\n",
    "kfoldcv = StratifiedKFold(n_splits=folds)\n",
    "\n",
    "#Clasificador\n",
    "pipeline = make_pipeline(\n",
    "    vectorizer,\n",
    "    XGBClassifier()\n",
    ")\n",
    "#Metrica que quiero optimizar F1 Score\n",
    "scorer_fn = make_scorer(sk.metrics.f1_score)\n",
    "\n",
    "#Random Search Cross Validation\n",
    "randomcv = RandomizedSearchCV(estimator=pipeline,\n",
    "                              param_distributions = params_grid,\n",
    "                              scoring=scorer_fn,\n",
    "                              cv=kfoldcv,\n",
    "                              n_iter=n, n_jobs=-1) \n",
    "\n",
    "#Busco los hiperparamtros que optimizan F1 Score\n",
    "model_XGB = randomcv.fit(x_train,y_train)"
   ]
  },
  {
   "cell_type": "code",
   "execution_count": 36,
   "metadata": {},
   "outputs": [
    {
     "name": "stdout",
     "output_type": "stream",
     "text": [
      "{'xgbclassifier__subsample': 0.8, 'xgbclassifier__max_depth': 7, 'xgbclassifier__learning_rate': 0.15, 'xgbclassifier__gamma': 0.5}\n",
      "0.831114970779238\n"
     ]
    }
   ],
   "source": [
    "#Mejores hiperparametros\n",
    "print(model_XGB.best_params_)\n",
    "#Mejor métrica\n",
    "print(model_XGB.best_score_)"
   ]
  },
  {
   "cell_type": "code",
   "execution_count": 37,
   "metadata": {},
   "outputs": [
    {
     "name": "stdout",
     "output_type": "stream",
     "text": [
      "              precision    recall  f1-score   support\n",
      "\n",
      "           0      0.857     0.798     0.826      7206\n",
      "           1      0.812     0.867     0.839      7249\n",
      "\n",
      "    accuracy                          0.833     14455\n",
      "   macro avg      0.834     0.833     0.833     14455\n",
      "weighted avg      0.834     0.833     0.833     14455\n",
      "\n"
     ]
    },
    {
     "data": {
      "image/png": "[encoded data removed]",
      "text/plain": [
       "<Figure size 640x480 with 2 Axes>"
      ]
     },
     "metadata": {},
     "output_type": "display_data"
    }
   ],
   "source": [
    "#Mejor estimador\n",
    "best_XGB=model_XGB.best_estimator_\n",
    "\n",
    "#Predicción con mejor estimador\n",
    "y_pred=best_XGB.predict(x_test)\n",
    "\n",
    "metricas(y_pred,y_test)"
   ]
  },
  {
   "cell_type": "code",
   "execution_count": 95,
   "metadata": {},
   "outputs": [],
   "source": [
    "guardar_y_predecir(best_XGB,\"xgboost_best-filtrado\")"
   ]
  },
  {
   "attachments": {},
   "cell_type": "markdown",
   "metadata": {},
   "source": [
    "No dio buenos resultados, voy a probar otro set de hiperparámetros"
   ]
  },
  {
   "cell_type": "code",
   "execution_count": null,
   "metadata": {},
   "outputs": [],
   "source": [
    "##KFOLD CV Random Search para buscar el mejor arbol (los mejores atributos, hiperparametros,etc)\n",
    "from sklearn.model_selection import StratifiedKFold\n",
    "from sklearn.metrics import make_scorer\n",
    "\n",
    "#Cantidad de combinaciones que quiero probar\n",
    "n=40\n",
    "\n",
    "#Conjunto de parámetros que quiero usar\n",
    "params_grid = { 'xgbclassifier__max_depth': [3,6,10],\n",
    "           'xgbclassifier__learning_rate': [0.01, 0.05, 0.1],\n",
    "           'xgbclassifier__n_estimators': [100, 500, 1000],\n",
    "           'xgbclassifier__colsample_bytree': [0.3, 0.7]\n",
    "           }\n",
    "                \n",
    "#Cantidad de splits para el Cross Validation\n",
    "folds=5\n",
    "\n",
    "#Kfold estratificado\n",
    "kfoldcv = StratifiedKFold(n_splits=folds)\n",
    "\n",
    "#Clasificador\n",
    "pipeline = make_pipeline(\n",
    "    vectorizer,\n",
    "    XGBClassifier()\n",
    ")\n",
    "#Metrica que quiero optimizar F1 Score\n",
    "scorer_fn = make_scorer(sk.metrics.f1_score)\n",
    "\n",
    "#Random Search Cross Validation\n",
    "randomcv = GridSearchCV(estimator=pipeline,\n",
    "                              param_distributions = params_grid,\n",
    "                              scoring=scorer_fn,\n",
    "                              cv=kfoldcv,\n",
    "                              n_iter=n,\n",
    "                              verbose=1,\n",
    "                              n_jobs=-1) \n",
    "\n",
    "#Busco los hiperparamtros que optimizan F1 Score\n",
    "model_XGB = randomcv.fit(x_train,y_train)"
   ]
  }
 ],
 "metadata": {
  "kernelspec": {
   "display_name": "Python 3",
   "language": "python",
   "name": "python3"
  },
  "language_info": {
   "codemirror_mode": {
    "name": "ipython",
    "version": 3
   },
   "file_extension": ".py",
   "mimetype": "text/x-python",
   "name": "python",
   "nbconvert_exporter": "python",
   "pygments_lexer": "ipython3",
   "version": "3.9.2"
  },
  "orig_nbformat": 4
 },
 "nbformat": 4,
 "nbformat_minor": 2
}
