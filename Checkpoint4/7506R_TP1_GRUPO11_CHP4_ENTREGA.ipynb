{
 "cells": [
  {
   "attachments": {},
   "cell_type": "markdown",
   "metadata": {},
   "source": [
    "## Checkpoint 4"
   ]
  },
  {
   "attachments": {},
   "cell_type": "markdown",
   "metadata": {},
   "source": [
    "Importación"
   ]
  },
  {
   "cell_type": "code",
   "execution_count": 2,
   "metadata": {},
   "outputs": [
    {
     "name": "stderr",
     "output_type": "stream",
     "text": [
      "2023-05-25 03:50:28.213657: I tensorflow/tsl/cuda/cudart_stub.cc:28] Could not find cuda drivers on your machine, GPU will not be used.\n",
      "2023-05-25 03:50:28.314831: I tensorflow/tsl/cuda/cudart_stub.cc:28] Could not find cuda drivers on your machine, GPU will not be used.\n",
      "2023-05-25 03:50:28.315495: I tensorflow/core/platform/cpu_feature_guard.cc:182] This TensorFlow binary is optimized to use available CPU instructions in performance-critical operations.\n",
      "To enable the following instructions: AVX2 FMA, in other operations, rebuild TensorFlow with the appropriate compiler flags.\n",
      "2023-05-25 03:50:30.129304: W tensorflow/compiler/tf2tensorrt/utils/py_utils.cc:38] TF-TRT Warning: Could not find TensorRT\n"
     ]
    }
   ],
   "source": [
    "import matplotlib.pyplot as plt\n",
    "import seaborn as sns\n",
    "\n",
    "import pandas as pd\n",
    "import numpy as np\n",
    "\n",
    "from sklearn.metrics import f1_score,  recall_score, precision_score, accuracy_score, classification_report, confusion_matrix\n",
    "from sklearn.preprocessing import StandardScaler\n",
    "from sklearn.model_selection import train_test_split\n",
    "\n",
    "import tensorflow as tf\n",
    "from tensorflow import keras\n",
    "from keras.utils.vis_utils import plot_model\n",
    "# import visualkeras\n",
    "\n",
    "np.random.seed(1)\n",
    "tf.random.set_seed(1) \n",
    "\n",
    "import warnings\n",
    "warnings.filterwarnings(\"ignore\", category=DeprecationWarning) "
   ]
  },
  {
   "cell_type": "code",
   "execution_count": 3,
   "metadata": {},
   "outputs": [],
   "source": [
    "ds_hotels = pd.read_csv(\"https://drive.google.com/u/1/uc?id=12Ozzs_9Xb8BEUT0Jb4T1G3zyQ8vNMwWN&export=download\")\n",
    "ds_test = pd.read_csv(\"https://drive.google.com/u/1/uc?id=12gG9w6VEdOQbzCpGucTo2QOUtDPNbcsh&export=download\")"
   ]
  },
  {
   "attachments": {},
   "cell_type": "markdown",
   "metadata": {},
   "source": [
    "Filtrado"
   ]
  },
  {
   "cell_type": "code",
   "execution_count": 4,
   "metadata": {},
   "outputs": [],
   "source": [
    "ds_train_filtrado_1 = ds_hotels.copy()\n",
    "\n",
    "ds_train_filtrado_1 = ds_train_filtrado_1.drop(ds_train_filtrado_1[ds_train_filtrado_1['distribution_channel'].astype('str').eq('Undefined')].index)\n",
    "ds_train_filtrado_1.reset_index(drop=True, inplace=True)\n",
    "\n",
    "ds_train_filtrado_1.loc[ds_train_filtrado_1['meal'].astype('str').eq('Undefined'), 'meal'] = 'SC'\n",
    "\n",
    "# \"assigned_room_type\"\n",
    "# Obtener los valores únicos de la columna \"col\"\n",
    "unique_values = ds_train_filtrado_1['assigned_room_type'].unique()\n",
    "\n",
    "# Crear una lista de los valores que se deben reemplazar\n",
    "values_to_replace = [value for value in unique_values if value not in [\"A\", \"B\", \"C\", \"D\", \"E\", \"F\", \"G\"]]\n",
    "\n",
    "# Reemplazar los valores en la columna \"col\"\n",
    "ds_train_filtrado_1[\"assigned_room_type\"].replace(values_to_replace, \"O\", inplace=True)\n",
    "\n",
    "#Son demasiados paises, pruebo dejar los que representan mas de 1% y el resto los categorizo como \"NOC\"\n",
    "counts = ds_train_filtrado_1['country'].value_counts(normalize=True)\n",
    "filt = counts > 0.01\n",
    "valores_a_mantener = counts[filt].index.tolist()\n",
    "ds_train_filtrado_1.loc[~ds_train_filtrado_1['country'].isin(valores_a_mantener), 'country'] = 'NOC'\n",
    "\n",
    "ds_train_filtrado_1.loc[ds_train_filtrado_1['agent'].isnull(), 'agent'] = 0\n",
    "ds_train_filtrado_1 = ds_train_filtrado_1.drop('company', axis=1)\n",
    "###ds_train_filtrado_1.loc[ds_train_filtrado_1['company'].isnull(), 'company'] = 0\n",
    "\n",
    "ds_train_filtrado_1.at[21124, 'adr'] = 210\n",
    "ds_train_filtrado_1.drop(['reservation_status_date','id'], axis='columns', inplace=True)\n",
    "\n",
    "# OUTLIERS\n",
    "ds_train_filtrado_1.loc[49179,\"children\"]=1\n",
    "ds_train_filtrado_1.loc[55457,\"adr\"]=123.79\n",
    "ds_train_filtrado_1.at[8690,'adr']=286.17\n",
    "ds_train_filtrado_1.at[53999,'adr']=273.47\n",
    "ds_train_filtrado_1.at[50238,'adr']=153.6\n",
    "ds_train_filtrado_1.loc[12659,\"babies\"]=0\n",
    "\n",
    "ds_train_filtrado_1 = pd.get_dummies(ds_train_filtrado_1, columns=[\"country\",\"hotel\",\"arrival_date_month\",\"reserved_room_type\",\"assigned_room_type\",\"deposit_type\",\"customer_type\",\"meal\",\"market_segment\",\"distribution_channel\"], drop_first=True)"
   ]
  },
  {
   "attachments": {},
   "cell_type": "markdown",
   "metadata": {},
   "source": [
    "Filtrado test"
   ]
  },
  {
   "cell_type": "code",
   "execution_count": 5,
   "metadata": {},
   "outputs": [],
   "source": [
    "ds_test_filtrado_1 = ds_test.copy()\n",
    "\n",
    "ds_test_filtrado_1 = ds_test_filtrado_1.drop(ds_test_filtrado_1[ds_test_filtrado_1['distribution_channel'].astype('str').eq('Undefined')].index)\n",
    "ds_test_filtrado_1.reset_index(drop=True, inplace=True)\n",
    "ds_test_filtrado_1.loc[ds_test_filtrado_1['meal'].astype('str').eq('Undefined'), 'meal'] = 'SC'\n",
    "# PAISES\n",
    "\n",
    "ds_test_filtrado_1.loc[ds_test_filtrado_1['agent'].isnull(), 'agent'] = 0\n",
    "ds_test_filtrado_1 = ds_test_filtrado_1.drop('company', axis=1)\n",
    "###ds_test_filtrado_1.loc[ds_test_filtrado_1['company'].isnull(), 'company'] = 0\n",
    "\n",
    "ds_test_filtrado_1.drop(['reservation_status_date','id'], axis='columns', inplace=True)\n",
    "\n",
    "# \"assigned_room_type\"\n",
    "# Obtener los valores únicos de la columna \"col\"\n",
    "unique_values = ds_test_filtrado_1['assigned_room_type'].unique()\n",
    "# Crear una lista de los valores que se deben reemplazar\n",
    "values_to_replace = [value for value in unique_values if value not in [\"A\", \"B\", \"C\", \"D\", \"E\", \"F\", \"G\"]]\n",
    "# Reemplazar los valores en la columna \"col\"\n",
    "ds_test_filtrado_1[\"assigned_room_type\"].replace(values_to_replace, \"O\", inplace=True)\n",
    "\n",
    "#Son demasiados paises, pruebo dejar los que representan mas de 1% y el resto los categorizo como \"NOC\"\n",
    "ds_test_filtrado_1.loc[~ds_test_filtrado_1['country'].isin(valores_a_mantener), 'country'] = 'NOC'\n",
    "\n",
    "\n",
    "ds_test_filtrado_1 = pd.get_dummies(ds_test_filtrado_1, columns=[\"country\",\"hotel\",\"arrival_date_month\",\"reserved_room_type\",\"assigned_room_type\",\"deposit_type\",\"customer_type\",\"meal\",\"market_segment\",\"distribution_channel\"], drop_first=True)"
   ]
  },
  {
   "cell_type": "code",
   "execution_count": 6,
   "metadata": {},
   "outputs": [],
   "source": [
    "#Creo un dataset con los features que voy a usar para clasificar\n",
    "ds_train_filtrado_1_x = ds_train_filtrado_1.drop(['is_canceled'], axis='columns', inplace=False)\n",
    "\n",
    "#Creo un dataset con la variable target\n",
    "ds_train_filtrado_1_y = ds_train_filtrado_1['is_canceled'].copy()\n",
    "\n",
    "#Genero los conjuntos de train y de test\n",
    "x_train, x_test, y_train, y_test = train_test_split(ds_train_filtrado_1_x,\n",
    "                                                    ds_train_filtrado_1_y, \n",
    "                                                    test_size=0.2, \n",
    "                                                    random_state=1) #semilla)"
   ]
  },
  {
   "attachments": {},
   "cell_type": "markdown",
   "metadata": {},
   "source": [
    "Escalado"
   ]
  },
  {
   "cell_type": "code",
   "execution_count": 7,
   "metadata": {},
   "outputs": [],
   "source": [
    "#Armo una version estandarizada\n",
    "\n",
    "stand_scaler = StandardScaler()\n",
    "x_train_norm = stand_scaler.fit_transform(x_train)\n",
    "x_test_norm=stand_scaler.transform(x_test)\n",
    "\n",
    "ds_test_filtrado_norm = stand_scaler.transform(ds_test_filtrado_1)"
   ]
  },
  {
   "cell_type": "code",
   "execution_count": 8,
   "metadata": {},
   "outputs": [],
   "source": [
    "def metricas(y_pred,y_test):\n",
    "\n",
    "  print(classification_report(y_test,y_pred))\n",
    "  \n",
    "  cm = confusion_matrix(y_test,y_pred)\n",
    "  sns.heatmap(cm, cmap='Blues',annot=True,fmt='g')\n",
    "  plt.xlabel('Predicted')\n",
    "  plt.ylabel('True')"
   ]
  },
  {
   "cell_type": "code",
   "execution_count": 21,
   "metadata": {},
   "outputs": [],
   "source": [
    "def guardar_prediccion(y_prediccion, ds_test, name):\n",
    "    sub = pd.DataFrame(ds_test['id'])\n",
    "    submition=pd.DataFrame(y_prediccion)\n",
    "    submition.rename(columns={0: \"is_canceled\"})\n",
    "    sub[\"is_canceled\"]= submition\n",
    "    sub.to_csv(name, index=False)"
   ]
  },
  {
   "cell_type": "code",
   "execution_count": 31,
   "metadata": {},
   "outputs": [],
   "source": [
    "import pickle\n",
    "\n",
    "\n",
    "def guardar_modelo(model, filename):\n",
    "    # save the model to disk\n",
    "    pickle.dump(model, open(filename, 'wb'))"
   ]
  },
  {
   "attachments": {},
   "cell_type": "markdown",
   "metadata": {},
   "source": [
    "Modelo"
   ]
  },
  {
   "cell_type": "code",
   "execution_count": 39,
   "metadata": {},
   "outputs": [
    {
     "name": "stdout",
     "output_type": "stream",
     "text": [
      "Model: \"sequential_2\"\n",
      "_________________________________________________________________\n",
      " Layer (type)                Output Shape              Param #   \n",
      "=================================================================\n",
      " dense_4 (Dense)             (None, 1)                 76        \n",
      "                                                                 \n",
      " dense_5 (Dense)             (None, 1)                 2         \n",
      "                                                                 \n",
      "=================================================================\n",
      "Total params: 78\n",
      "Trainable params: 78\n",
      "Non-trainable params: 0\n",
      "_________________________________________________________________\n"
     ]
    }
   ],
   "source": [
    "# calcula la cantidad de clases\n",
    "cant_clases=len(np.unique(y_train))\n",
    "d_in=len(x_train.columns)\n",
    "\n",
    "modelo1 = keras.Sequential([\n",
    "    keras.layers.Dense(1,input_shape=(d_in,)),\n",
    "    keras.layers.Dense(1, activation='sigmoid')])\n",
    "\n",
    "modelo1.summary()"
   ]
  },
  {
   "cell_type": "code",
   "execution_count": 23,
   "metadata": {},
   "outputs": [],
   "source": [
    "modelo1.compile(\n",
    "  optimizer=keras.optimizers.SGD(learning_rate=0.01), \n",
    "  loss='binary_crossentropy', \n",
    "  # metricas para ir calculando en cada iteracion o batch \n",
    "  metrics=['AUC'], \n",
    ")\n",
    "\n",
    "cant_epochs_titanic=100\n",
    "modelo_titanic1_historia = modelo1.fit(x_train_norm,y_train,epochs=cant_epochs_titanic,batch_size=50,verbose=False)"
   ]
  },
  {
   "cell_type": "code",
   "execution_count": 36,
   "metadata": {},
   "outputs": [
    {
     "name": "stdout",
     "output_type": "stream",
     "text": [
      "387/387 [==============================] - 0s 756us/step\n"
     ]
    },
    {
     "data": {
      "image/png": "[encoded data removed]",
      "text/plain": [
       "<Figure size 640x480 with 2 Axes>"
      ]
     },
     "metadata": {},
     "output_type": "display_data"
    }
   ],
   "source": [
    "y_predic_ej1 = modelo1.predict(x_test_norm)\n",
    "y_predic_cat_ej1 = np.where(y_predic_ej1>0.4,1,0)\n",
    "\n",
    "ds_validacion=pd.DataFrame(y_predic_cat_ej1,y_test).reset_index()\n",
    "ds_validacion.columns=['y_pred','y_real']\n",
    "\n",
    "tabla=pd.crosstab(ds_validacion.y_pred, ds_validacion.y_real)\n",
    "grf=sns.heatmap(tabla,annot=True, cmap = 'Blues')\n",
    "plt.show()"
   ]
  },
  {
   "cell_type": "code",
   "execution_count": 37,
   "metadata": {},
   "outputs": [
    {
     "name": "stdout",
     "output_type": "stream",
     "text": [
      "              precision    recall  f1-score   support\n",
      "\n",
      "           0       0.84      0.73      0.78      6207\n",
      "           1       0.76      0.86      0.81      6175\n",
      "\n",
      "    accuracy                           0.80     12382\n",
      "   macro avg       0.80      0.80      0.80     12382\n",
      "weighted avg       0.80      0.80      0.80     12382\n",
      "\n"
     ]
    },
    {
     "data": {
      "image/png": "[encoded data removed]",
      "text/plain": [
       "<Figure size 640x480 with 2 Axes>"
      ]
     },
     "metadata": {},
     "output_type": "display_data"
    }
   ],
   "source": [
    "metricas(y_predic_cat_ej1,y_test)"
   ]
  },
  {
   "attachments": {},
   "cell_type": "markdown",
   "metadata": {},
   "source": [
    "Otra red"
   ]
  },
  {
   "cell_type": "code",
   "execution_count": 71,
   "metadata": {},
   "outputs": [
    {
     "name": "stdout",
     "output_type": "stream",
     "text": [
      "Model: \"sequential_14\"\n",
      "_________________________________________________________________\n",
      " Layer (type)                Output Shape              Param #   \n",
      "=================================================================\n",
      " dense_28 (Dense)            (None, 760)               57760     \n",
      "                                                                 \n",
      " dense_29 (Dense)            (None, 1)                 761       \n",
      "                                                                 \n",
      "=================================================================\n",
      "Total params: 58,521\n",
      "Trainable params: 58,521\n",
      "Non-trainable params: 0\n",
      "_________________________________________________________________\n"
     ]
    },
    {
     "data": {
      "text/plain": [
       "2"
      ]
     },
     "execution_count": 71,
     "metadata": {},
     "output_type": "execute_result"
    }
   ],
   "source": [
    "# calcula la cantidad de clases\n",
    "cant_clases=len(np.unique(y_train))\n",
    "\n",
    "d_in=len(x_train.columns)\n",
    "modelo2 = keras.Sequential([\n",
    "    # input_shape solo en la primer capa\n",
    "    # Capa con 3 salidas, activación relu\n",
    "    keras.layers.Dense(760,input_shape=(d_in,), activation='relu',kernel_initializer='uniform'),\n",
    "    keras.layers.Dense(1, activation='sigmoid')])\n",
    "\n",
    "modelo2.summary()\n",
    "cant_clases"
   ]
  },
  {
   "cell_type": "code",
   "execution_count": 72,
   "metadata": {},
   "outputs": [],
   "source": [
    "modelo2.compile(\n",
    "  optimizer=keras.optimizers.Adam(learning_rate=0.001, beta_1=0.9, beta_2= 0.999), \n",
    "  loss='binary_crossentropy', \n",
    "  # metricas para ir calculando en cada iteracion o batch \n",
    "  metrics=['AUC'], \n",
    ")\n",
    "\n",
    "cant_epochs=100\n",
    "\n",
    "historia_modelo2=modelo2.fit(x_train_norm,y_train,epochs=cant_epochs,batch_size=16,verbose=False)"
   ]
  },
  {
   "cell_type": "code",
   "execution_count": 73,
   "metadata": {},
   "outputs": [
    {
     "name": "stdout",
     "output_type": "stream",
     "text": [
      "387/387 [==============================] - 0s 930us/step\n"
     ]
    }
   ],
   "source": [
    "y_predic_ej1 = modelo2.predict(x_test_norm)\n",
    "y_predic_cat_ej1 = np.where(y_predic_ej1>0.5,1,0)"
   ]
  },
  {
   "cell_type": "code",
   "execution_count": 65,
   "metadata": {},
   "outputs": [
    {
     "data": {
      "text/plain": [
       "array([[0.99805534],\n",
       "       [0.5491246 ],\n",
       "       [0.26710814],\n",
       "       ...,\n",
       "       [0.02194417],\n",
       "       [0.99947745],\n",
       "       [0.198781  ]], dtype=float32)"
      ]
     },
     "execution_count": 65,
     "metadata": {},
     "output_type": "execute_result"
    }
   ],
   "source": [
    "y_predic_ej1"
   ]
  },
  {
   "cell_type": "code",
   "execution_count": 74,
   "metadata": {},
   "outputs": [
    {
     "name": "stdout",
     "output_type": "stream",
     "text": [
      "              precision    recall  f1-score   support\n",
      "\n",
      "           0       0.83      0.86      0.84      6207\n",
      "           1       0.85      0.82      0.84      6175\n",
      "\n",
      "    accuracy                           0.84     12382\n",
      "   macro avg       0.84      0.84      0.84     12382\n",
      "weighted avg       0.84      0.84      0.84     12382\n",
      "\n"
     ]
    },
    {
     "data": {
      "image/png": "[encoded data removed]",
      "text/plain": [
       "<Figure size 640x480 with 2 Axes>"
      ]
     },
     "metadata": {},
     "output_type": "display_data"
    }
   ],
   "source": [
    "metricas(y_predic_cat_ej1,y_test)"
   ]
  },
  {
   "attachments": {},
   "cell_type": "markdown",
   "metadata": {},
   "source": [
    "Otra red"
   ]
  },
  {
   "cell_type": "code",
   "execution_count": 16,
   "metadata": {},
   "outputs": [
    {
     "name": "stdout",
     "output_type": "stream",
     "text": [
      "Model: \"sequential_3\"\n",
      "_________________________________________________________________\n",
      " Layer (type)                Output Shape              Param #   \n",
      "=================================================================\n",
      " dense_7 (Dense)             (None, 20)                1520      \n",
      "                                                                 \n",
      " dense_8 (Dense)             (None, 20)                420       \n",
      "                                                                 \n",
      " dense_9 (Dense)             (None, 20)                420       \n",
      "                                                                 \n",
      " dense_10 (Dense)            (None, 1)                 21        \n",
      "                                                                 \n",
      "=================================================================\n",
      "Total params: 2,381\n",
      "Trainable params: 2,381\n",
      "Non-trainable params: 0\n",
      "_________________________________________________________________\n"
     ]
    }
   ],
   "source": [
    "# calcula la cantidad de clases\n",
    "cant_clases=len(np.unique(y_train))\n",
    "\n",
    "d_in=len(x_train.columns)\n",
    "modelo2 = keras.Sequential([\n",
    "    # input_shape solo en la primer capa\n",
    "    # Capa con 1 salida, activación relu\n",
    "    keras.layers.Dense(20,input_shape=(d_in,), activation='relu',kernel_initializer='uniform'),\n",
    "    keras.layers.Dense(20,activation='relu'),\n",
    "    keras.layers.Dense(20,activation='relu'),\n",
    "    keras.layers.Dense(1, activation='sigmoid')])\n",
    "\n",
    "modelo2.summary()"
   ]
  },
  {
   "cell_type": "code",
   "execution_count": 26,
   "metadata": {},
   "outputs": [],
   "source": [
    "modelo2.compile(\n",
    "  optimizer=keras.optimizers.Adam(learning_rate=0.001, beta_1=0.9, beta_2= 0.999), \n",
    "  loss='binary_crossentropy', \n",
    "  # metricas para ir calculando en cada iteracion o batch \n",
    "  metrics=['accuracy'], \n",
    ")\n",
    "\n",
    "cant_epochs=30\n",
    "\n",
    "historia_modelo2=modelo2.fit(x_train_norm,y_train,epochs=cant_epochs,batch_size=16,verbose=False)"
   ]
  },
  {
   "cell_type": "code",
   "execution_count": 27,
   "metadata": {},
   "outputs": [
    {
     "name": "stdout",
     "output_type": "stream",
     "text": [
      "387/387 [==============================] - 1s 2ms/step\n",
      "              precision    recall  f1-score   support\n",
      "\n",
      "           0       0.86      0.85      0.86      6207\n",
      "           1       0.85      0.86      0.86      6175\n",
      "\n",
      "    accuracy                           0.86     12382\n",
      "   macro avg       0.86      0.86      0.86     12382\n",
      "weighted avg       0.86      0.86      0.86     12382\n",
      "\n"
     ]
    },
    {
     "data": {
      "image/png": "[encoded data removed]",
      "text/plain": [
       "<Figure size 640x480 with 2 Axes>"
      ]
     },
     "metadata": {},
     "output_type": "display_data"
    }
   ],
   "source": [
    "y_predic_ej1 = modelo2.predict(x_test_norm)\n",
    "y_predic_cat_ej1 = np.where(y_predic_ej1>0.5,1,0)\n",
    "metricas(y_predic_cat_ej1,y_test)"
   ]
  },
  {
   "cell_type": "code",
   "execution_count": 28,
   "metadata": {},
   "outputs": [
    {
     "name": "stdout",
     "output_type": "stream",
     "text": [
      "830/830 [==============================] - 2s 2ms/step\n"
     ]
    }
   ],
   "source": [
    "y_predic_ej1 = modelo2.predict(ds_test_filtrado_norm)\n",
    "y_prediccion = np.where(y_predic_ej1>0.5,1,0)"
   ]
  },
  {
   "cell_type": "code",
   "execution_count": 29,
   "metadata": {},
   "outputs": [],
   "source": [
    "guardar_prediccion(y_prediccion, ds_test, \"predict_red_4c.csv\")"
   ]
  },
  {
   "cell_type": "code",
   "execution_count": 32,
   "metadata": {},
   "outputs": [],
   "source": [
    "guardar_modelo(modelo2, 'model_red_4c.sav')"
   ]
  },
  {
   "cell_type": "code",
   "execution_count": 79,
   "metadata": {},
   "outputs": [],
   "source": [
    "# Create the sklearn model for the network\n",
    "\n",
    "def create_model():\n",
    "    modelo= keras.Sequential([\n",
    "    keras.layers.Dense(10,input_shape=(d_in,), activation='relu',kernel_initializer='uniform'),\n",
    "    keras.layers.Dense(1, activation='sigmoid')])\n",
    "    \n",
    "    modelo.compile(\n",
    "      optimizer=keras.optimizers.SGD(learning_rate=0.001), \n",
    "      loss='binary_crossentropy', \n",
    "      # metricas para ir calculando en cada iteracion o batch \n",
    "      metrics=['AUC'], \n",
    "    )\n",
    "    \n",
    "    return modelo"
   ]
  },
  {
   "attachments": {},
   "cell_type": "markdown",
   "metadata": {},
   "source": [
    "Red con cross validation"
   ]
  },
  {
   "cell_type": "code",
   "execution_count": 80,
   "metadata": {},
   "outputs": [],
   "source": [
    "from keras.wrappers.scikit_learn import KerasClassifier\n",
    "modelo_cv = KerasClassifier(build_fn=create_model)"
   ]
  },
  {
   "cell_type": "code",
   "execution_count": 81,
   "metadata": {},
   "outputs": [
    {
     "name": "stdout",
     "output_type": "stream",
     "text": [
      "{'epochs': [50, 100, 150], 'batch_size': [5, 10, 20]}\n",
      "Epoch 1/50\n",
      "7925/7925 [==============================] - 8s 1ms/step - loss: 0.5253 - auc: 0.8310\n",
      "Epoch 2/50\n",
      "7925/7925 [==============================] - 8s 992us/step - loss: 0.4320 - auc: 0.8811\n",
      "Epoch 3/50\n",
      "7925/7925 [==============================] - 8s 1ms/step - loss: 0.4054 - auc: 0.8930\n",
      "Epoch 4/50\n",
      "7925/7925 [==============================] - 8s 1ms/step - loss: 0.3924 - auc: 0.8993\n",
      "Epoch 5/50\n",
      "7925/7925 [==============================] - 9s 1ms/step - loss: 0.3840 - auc: 0.9037\n",
      "Epoch 6/50\n",
      "7925/7925 [==============================] - 8s 1ms/step - loss: 0.3775 - auc: 0.9070\n",
      "Epoch 7/50\n",
      "7925/7925 [==============================] - 10s 1ms/step - loss: 0.3726 - auc: 0.9094\n",
      "Epoch 8/50\n",
      "7925/7925 [==============================] - 9s 1ms/step - loss: 0.3686 - auc: 0.9113\n",
      "Epoch 9/50\n",
      "7925/7925 [==============================] - 8s 1ms/step - loss: 0.3653 - auc: 0.9130\n",
      "Epoch 10/50\n",
      "7925/7925 [==============================] - 8s 1ms/step - loss: 0.3627 - auc: 0.9142\n",
      "Epoch 11/50\n",
      "7925/7925 [==============================] - 8s 991us/step - loss: 0.3603 - auc: 0.9155\n",
      "Epoch 12/50\n",
      "7925/7925 [==============================] - 8s 990us/step - loss: 0.3582 - auc: 0.9164\n",
      "Epoch 13/50\n",
      "7925/7925 [==============================] - 8s 991us/step - loss: 0.3564 - auc: 0.9173\n",
      "Epoch 14/50\n",
      "7925/7925 [==============================] - 8s 1ms/step - loss: 0.3546 - auc: 0.9182\n",
      "Epoch 15/50\n",
      "7925/7925 [==============================] - 9s 1ms/step - loss: 0.3531 - auc: 0.9189\n",
      "Epoch 16/50\n",
      "7925/7925 [==============================] - 8s 1ms/step - loss: 0.3520 - auc: 0.9196\n",
      "Epoch 17/50\n",
      "7925/7925 [==============================] - 8s 1ms/step - loss: 0.3507 - auc: 0.9202\n",
      "Epoch 18/50\n",
      "7925/7925 [==============================] - 9s 1ms/step - loss: 0.3497 - auc: 0.9206\n",
      "Epoch 19/50\n",
      "7925/7925 [==============================] - 8s 1ms/step - loss: 0.3489 - auc: 0.9210\n",
      "Epoch 20/50\n",
      "7925/7925 [==============================] - 8s 1ms/step - loss: 0.3480 - auc: 0.9215\n",
      "Epoch 21/50\n",
      "7925/7925 [==============================] - 8s 1ms/step - loss: 0.3470 - auc: 0.9220\n",
      "Epoch 22/50\n",
      "7925/7925 [==============================] - 8s 1ms/step - loss: 0.3462 - auc: 0.9224\n",
      "Epoch 23/50\n",
      "7925/7925 [==============================] - 10s 1ms/step - loss: 0.3455 - auc: 0.9227\n",
      "Epoch 24/50\n",
      "7925/7925 [==============================] - 8s 1ms/step - loss: 0.3446 - auc: 0.9231\n",
      "Epoch 25/50\n",
      "7925/7925 [==============================] - 8s 1ms/step - loss: 0.3440 - auc: 0.9233\n",
      "Epoch 26/50\n",
      "7925/7925 [==============================] - 8s 1ms/step - loss: 0.3435 - auc: 0.9237\n",
      "Epoch 27/50\n",
      "7925/7925 [==============================] - 9s 1ms/step - loss: 0.3426 - auc: 0.9240\n",
      "Epoch 28/50\n",
      "7925/7925 [==============================] - 8s 1ms/step - loss: 0.3421 - auc: 0.9243\n",
      "Epoch 29/50\n",
      "7925/7925 [==============================] - 8s 1ms/step - loss: 0.3416 - auc: 0.9245\n",
      "Epoch 30/50\n",
      "7925/7925 [==============================] - 8s 1ms/step - loss: 0.3409 - auc: 0.9249\n",
      "Epoch 31/50\n",
      "7925/7925 [==============================] - 9s 1ms/step - loss: 0.3402 - auc: 0.9252\n",
      "Epoch 32/50\n",
      "7925/7925 [==============================] - 9s 1ms/step - loss: 0.3400 - auc: 0.9253\n",
      "Epoch 33/50\n",
      "7925/7925 [==============================] - 9s 1ms/step - loss: 0.3393 - auc: 0.9256\n",
      "Epoch 34/50\n",
      "7925/7925 [==============================] - 9s 1ms/step - loss: 0.3389 - auc: 0.9257\n",
      "Epoch 35/50\n",
      "7925/7925 [==============================] - 8s 1ms/step - loss: 0.3383 - auc: 0.9261\n",
      "Epoch 36/50\n",
      "7925/7925 [==============================] - 8s 1ms/step - loss: 0.3379 - auc: 0.9263\n",
      "Epoch 37/50\n",
      "7925/7925 [==============================] - 8s 1ms/step - loss: 0.3375 - auc: 0.9263\n",
      "Epoch 38/50\n",
      "5175/7925 [==================>...........] - ETA: 3s - loss: 0.3373 - auc: 0.9267"
     ]
    }
   ],
   "source": [
    "from sklearn.model_selection import GridSearchCV\n",
    "\n",
    "epochs = [50, 100, 150]\n",
    "batches = [5, 10, 20]\n",
    "\n",
    "param_grid = dict( epochs=epochs, batch_size=batches)\n",
    "\n",
    "print(param_grid)\n",
    "\n",
    "grid = GridSearchCV(estimator=modelo_cv, param_grid=param_grid)\n",
    "grid_result = grid.fit(x_train_norm, y_train)"
   ]
  }
 ],
 "metadata": {
  "kernelspec": {
   "display_name": "Python 3",
   "language": "python",
   "name": "python3"
  },
  "language_info": {
   "codemirror_mode": {
    "name": "ipython",
    "version": 3
   },
   "file_extension": ".py",
   "mimetype": "text/x-python",
   "name": "python",
   "nbconvert_exporter": "python",
   "pygments_lexer": "ipython3",
   "version": "3.8.10"
  },
  "orig_nbformat": 4
 },
 "nbformat": 4,
 "nbformat_minor": 2
}
